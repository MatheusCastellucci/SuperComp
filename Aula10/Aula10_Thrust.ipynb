{
  "nbformat": 4,
  "nbformat_minor": 0,
  "metadata": {
    "colab": {
      "provenance": [],
      "gpuType": "T4"
    },
    "kernelspec": {
      "name": "python3",
      "display_name": "Python 3"
    },
    "language_info": {
      "name": "python"
    },
    "accelerator": "GPU"
  },
  "cells": [
    {
      "cell_type": "code",
      "execution_count": 1,
      "metadata": {
        "colab": {
          "base_uri": "https://localhost:8080/"
        },
        "id": "oXep64KHG5wf",
        "outputId": "61687fab-ca3e-4f0e-f1c2-f494d603db60"
      },
      "outputs": [
        {
          "output_type": "stream",
          "name": "stdout",
          "text": [
            "Fri Sep 13 11:52:17 2024       \n",
            "+---------------------------------------------------------------------------------------+\n",
            "| NVIDIA-SMI 535.104.05             Driver Version: 535.104.05   CUDA Version: 12.2     |\n",
            "|-----------------------------------------+----------------------+----------------------+\n",
            "| GPU  Name                 Persistence-M | Bus-Id        Disp.A | Volatile Uncorr. ECC |\n",
            "| Fan  Temp   Perf          Pwr:Usage/Cap |         Memory-Usage | GPU-Util  Compute M. |\n",
            "|                                         |                      |               MIG M. |\n",
            "|=========================================+======================+======================|\n",
            "|   0  Tesla T4                       Off | 00000000:00:04.0 Off |                    0 |\n",
            "| N/A   43C    P8               9W /  70W |      0MiB / 15360MiB |      0%      Default |\n",
            "|                                         |                      |                  N/A |\n",
            "+-----------------------------------------+----------------------+----------------------+\n",
            "                                                                                         \n",
            "+---------------------------------------------------------------------------------------+\n",
            "| Processes:                                                                            |\n",
            "|  GPU   GI   CI        PID   Type   Process name                            GPU Memory |\n",
            "|        ID   ID                                                             Usage      |\n",
            "|=======================================================================================|\n",
            "|  No running processes found                                                           |\n",
            "+---------------------------------------------------------------------------------------+\n"
          ]
        }
      ],
      "source": [
        "!nvidia-smi"
      ]
    },
    {
      "cell_type": "markdown",
      "source": [
        "# Exercício 1: Leitura e Transferência de Dados"
      ],
      "metadata": {
        "id": "kmARAIxqRbjq"
      }
    },
    {
      "cell_type": "code",
      "source": [
        "%%writefile exercicio1.cu\n",
        "#include <thrust/host_vector.h>\n",
        "#include <thrust/device_vector.h>\n",
        "#include <fstream>\n",
        "#include <iostream>\n",
        "#include <chrono>\n",
        "\n",
        "int main() {\n",
        "    // Comece a medir o tempo\n",
        "    auto start = std::chrono::steady_clock::now();\n",
        "\n",
        "    // Passo 1: Ler os preços das ações de um arquivo para um host_vector\n",
        "    thrust::host_vector<float> h_stock_prices;\n",
        "\n",
        "    std::ifstream file(\"/content/stocks-google.txt\"); // Caminho do arquivo no Colab\n",
        "    if (file.is_open()) {\n",
        "        float price;\n",
        "        while (file >> price) {\n",
        "            h_stock_prices.push_back(price);\n",
        "        }\n",
        "        file.close();\n",
        "    } else {\n",
        "        std::cerr << \"Erro ao abrir o arquivo!\" << std::endl;\n",
        "        return 1;\n",
        "    }\n",
        "\n",
        "    // Passo 2: Criar um device_vector e transferir os dados do host_vector para ele\n",
        "    thrust::device_vector<float> d_stock_prices = h_stock_prices;\n",
        "\n",
        "    // Fim da medição de tempo\n",
        "    auto end = std::chrono::steady_clock::now();\n",
        "    std::chrono::duration<float> duration = end - start;\n",
        "\n",
        "    // Imprimir o tempo de alocação e cópia\n",
        "    std::cout << \"Tempo de alocação e cópia: \" << duration.count() << \" segundos.\" << std::endl;\n",
        "\n",
        "    return 0;\n",
        "}"
      ],
      "metadata": {
        "colab": {
          "base_uri": "https://localhost:8080/"
        },
        "id": "7fKAAb0-Oman",
        "outputId": "a0717d25-38be-4554-b816-280d5c6cd404"
      },
      "execution_count": 23,
      "outputs": [
        {
          "output_type": "stream",
          "name": "stdout",
          "text": [
            "Overwriting exercicio1.cu\n"
          ]
        }
      ]
    },
    {
      "cell_type": "code",
      "source": [
        "!nvcc -arch=sm_70 -std=c++14 exercicio1.cu -o exercicio1"
      ],
      "metadata": {
        "id": "R3k1KY6TROep"
      },
      "execution_count": 24,
      "outputs": []
    },
    {
      "cell_type": "code",
      "source": [
        "!./exercicio1"
      ],
      "metadata": {
        "colab": {
          "base_uri": "https://localhost:8080/"
        },
        "id": "c4X-E1ddRVbo",
        "outputId": "fb2cb40e-b93d-4e2b-f32a-bbc65aeb6de5"
      },
      "execution_count": 25,
      "outputs": [
        {
          "output_type": "stream",
          "name": "stdout",
          "text": [
            "Tempo de alocação e cópia: 0.205575 segundos.\n"
          ]
        }
      ]
    },
    {
      "cell_type": "markdown",
      "source": [
        "# Exercício 2: Cálculo de Médias e Extremos"
      ],
      "metadata": {
        "id": "b2_2Ft63RgVE"
      }
    },
    {
      "cell_type": "code",
      "source": [
        "%%writefile exercicio2.cu\n",
        "#include <thrust/host_vector.h>\n",
        "#include <thrust/device_vector.h>\n",
        "#include <thrust/reduce.h>\n",
        "#include <thrust/extrema.h>\n",
        "#include <fstream>\n",
        "#include <iostream>\n",
        "#include <chrono>\n",
        "\n",
        "int main() {\n",
        "    thrust::host_vector<float> h_stock_prices;\n",
        "    std::ifstream file(\"/content/stocks-google.txt\");\n",
        "    if (file.is_open()) {\n",
        "        float price;\n",
        "        while (file >> price) {\n",
        "            h_stock_prices.push_back(price);\n",
        "        }\n",
        "        file.close();\n",
        "    }\n",
        "    thrust::device_vector<float> d_stock_prices = h_stock_prices;\n",
        "\n",
        "    // Exercício 2: Cálculo de Médias e Extremos\n",
        "\n",
        "    // Passo 1: Cálculo da média do período total (últimos 10 anos)\n",
        "    float sum_total = thrust::reduce(d_stock_prices.begin(), d_stock_prices.end(), 0.0f); // Somar todos os valores\n",
        "    float average_total = sum_total / d_stock_prices.size();  // Dividir pela quantidade de elementos\n",
        "\n",
        "    // Passo 2: Cálculo da média dos últimos 365 dias\n",
        "    int days_in_year = 365;\n",
        "    int start_index = d_stock_prices.size() - days_in_year;  // Índice de início dos últimos 365 dias\n",
        "    if (start_index < 0) start_index = 0;  // Certifique-se de que não acessamos fora do vetor, caso haja menos de 365 dias.\n",
        "\n",
        "    float sum_last_year = thrust::reduce(d_stock_prices.begin() + start_index, d_stock_prices.end(), 0.0f); // Soma dos últimos 365 dias\n",
        "    float average_last_year = sum_last_year / (d_stock_prices.end() - d_stock_prices.begin() + start_index); // Média dos últimos 365 dias\n",
        "\n",
        "    // Passo 3: Encontrar o maior e o menor preço no período total\n",
        "    auto minmax_total = thrust::minmax_element(d_stock_prices.begin(), d_stock_prices.end());\n",
        "    float min_total = *minmax_total.first;  // Menor valor no período total\n",
        "    float max_total = *minmax_total.second;  // Maior valor no período total\n",
        "\n",
        "    // Passo 4: Encontrar o maior e o menor preço nos últimos 365 dias\n",
        "    auto minmax_last_year = thrust::minmax_element(d_stock_prices.begin() + start_index, d_stock_prices.end());\n",
        "    float min_last_year = *minmax_last_year.first;  // Menor valor nos últimos 365 dias\n",
        "    float max_last_year = *minmax_last_year.second;  // Maior valor nos últimos 365 dias\n",
        "\n",
        "    // Exibir os resultados\n",
        "    std::cout << \"Preço médio total: \" << average_total << std::endl;\n",
        "    std::cout << \"Preço médio nos últimos 365 dias: \" << average_last_year << std::endl;\n",
        "    std::cout << \"Maior preço total: \" << max_total << std::endl;\n",
        "    std::cout << \"Menor preço total: \" << min_total << std::endl;\n",
        "    std::cout << \"Maior preço nos últimos 365 dias: \" << max_last_year << std::endl;\n",
        "    std::cout << \"Menor preço nos últimos 365 dias: \" << min_last_year << std::endl;\n",
        "\n",
        "    return 0;\n",
        "}\n"
      ],
      "metadata": {
        "colab": {
          "base_uri": "https://localhost:8080/"
        },
        "id": "lViv2REoRaYn",
        "outputId": "3bc79489-2e8f-4a44-e7c8-5ced18874a63"
      },
      "execution_count": 26,
      "outputs": [
        {
          "output_type": "stream",
          "name": "stdout",
          "text": [
            "Overwriting exercicio2.cu\n"
          ]
        }
      ]
    },
    {
      "cell_type": "code",
      "source": [
        "!nvcc -arch=sm_70 -std=c++14 exercicio2.cu -o exercicio2"
      ],
      "metadata": {
        "id": "iyIzFHowTWZO"
      },
      "execution_count": 27,
      "outputs": []
    },
    {
      "cell_type": "code",
      "source": [
        "!./exercicio2"
      ],
      "metadata": {
        "colab": {
          "base_uri": "https://localhost:8080/"
        },
        "id": "jONv3LEXTaiR",
        "outputId": "05646398-62a6-4a5c-92d2-66f6cf485c24"
      },
      "execution_count": 28,
      "outputs": [
        {
          "output_type": "stream",
          "name": "stdout",
          "text": [
            "Preço médio total: 1580.08\n",
            "Preço médio nos últimos 365 dias: 1428.02\n",
            "Maior preço total: 2200\n",
            "Menor preço total: 1015.24\n",
            "Maior preço nos últimos 365 dias: 2200\n",
            "Menor preço nos últimos 365 dias: 1060.5\n"
          ]
        }
      ]
    },
    {
      "cell_type": "markdown",
      "source": [
        "# Exercício 3: Transformações entre Vetores"
      ],
      "metadata": {
        "id": "k7tPYJSabuQi"
      }
    },
    {
      "cell_type": "code",
      "source": [
        "%%writefile exercicio3.cu\n",
        "#include <thrust/host_vector.h>\n",
        "#include <thrust/device_vector.h>\n",
        "#include <thrust/transform.h>\n",
        "#include <thrust/reduce.h>\n",
        "#include <fstream>\n",
        "#include <iostream>\n",
        "#include <sstream>\n",
        "\n",
        "struct difference_functor {\n",
        "    __host__ __device__\n",
        "    float operator()(const float &x, const float &y) const {\n",
        "        return x - y;\n",
        "    }\n",
        "};\n",
        "\n",
        "int main() {\n",
        "    // Passo 1: Ler os preços das ações da Apple e da Microsoft de um arquivo para dois host_vectors\n",
        "    thrust::host_vector<float> h_aapl_prices;\n",
        "    thrust::host_vector<float> h_msft_prices;\n",
        "\n",
        "    std::ifstream file(\"/content/stocks2.txt\"); // Caminho do arquivo no Colab\n",
        "    if (file.is_open()) {\n",
        "        std::string line;\n",
        "        while (std::getline(file, line)) {\n",
        "            std::stringstream ss(line);\n",
        "            float aapl_price, msft_price;\n",
        "            char comma;\n",
        "            ss >> aapl_price >> comma >> msft_price;\n",
        "            h_aapl_prices.push_back(aapl_price);\n",
        "            h_msft_prices.push_back(msft_price);\n",
        "        }\n",
        "        file.close();\n",
        "    } else {\n",
        "        std::cerr << \"Erro ao abrir o arquivo!\" << std::endl;\n",
        "        return 1;\n",
        "    }\n",
        "\n",
        "    // Passo 2: Transferir os dados do host_vector para o device_vector\n",
        "    thrust::device_vector<float> d_aapl_prices = h_aapl_prices;\n",
        "    thrust::device_vector<float> d_msft_prices = h_msft_prices;\n",
        "\n",
        "    // Passo 3: Calcular a diferença ponto a ponto entre os dois vetores\n",
        "    thrust::device_vector<float> d_differences(d_aapl_prices.size());\n",
        "    thrust::transform(d_aapl_prices.begin(), d_aapl_prices.end(),\n",
        "                      d_msft_prices.begin(), d_differences.begin(),\n",
        "                      difference_functor());\n",
        "\n",
        "    // Passo 4: Calcular a média das diferenças\n",
        "    float sum_differences = thrust::reduce(d_differences.begin(), d_differences.end(), 0.0f);\n",
        "    float average_difference = sum_differences / d_differences.size();\n",
        "\n",
        "    // Exibir a média das diferenças\n",
        "    std::cout << \"A média das diferenças entre os preços das ações da Apple e da Microsoft é: \" << average_difference << std::endl;\n",
        "\n",
        "    return 0;\n",
        "}"
      ],
      "metadata": {
        "colab": {
          "base_uri": "https://localhost:8080/"
        },
        "id": "DnC0AIpgbqur",
        "outputId": "d89b46be-2b9a-4bd8-ec3e-3a560720b6bd"
      },
      "execution_count": 29,
      "outputs": [
        {
          "output_type": "stream",
          "name": "stdout",
          "text": [
            "Writing exercicio3.cu\n"
          ]
        }
      ]
    },
    {
      "cell_type": "code",
      "source": [
        "!nvcc -arch=sm_70 -std=c++14 exercicio3.cu -o exercicio3"
      ],
      "metadata": {
        "id": "FZ_gCRl2cpeE"
      },
      "execution_count": 30,
      "outputs": []
    },
    {
      "cell_type": "code",
      "source": [
        "!./exercicio3"
      ],
      "metadata": {
        "colab": {
          "base_uri": "https://localhost:8080/"
        },
        "id": "XOl0H0h-csMZ",
        "outputId": "36b3941a-b606-4e5a-edfa-48b038120c90"
      },
      "execution_count": 31,
      "outputs": [
        {
          "output_type": "stream",
          "name": "stdout",
          "text": [
            "A média das diferenças entre os preços das ações da Apple e da Microsoft é: -265.232\n"
          ]
        }
      ]
    },
    {
      "cell_type": "markdown",
      "source": [
        "Isso significa que, em média, o preço das ações da Microsoft foi maior que o das ações da Apple por esse valor ao longo do período coberto pelos dados."
      ],
      "metadata": {
        "id": "5BqdWQjFeQlM"
      }
    }
  ]
}