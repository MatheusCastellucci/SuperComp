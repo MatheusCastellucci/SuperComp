{
 "cells": [
  {
   "cell_type": "markdown",
   "metadata": {},
   "source": [
    "# EX1: Cálculo do Quadrado de cada Elemento da Matriz\n"
   ]
  },
  {
   "cell_type": "markdown",
   "metadata": {},
   "source": [
    "## Resultados dos Tempos de Execução\n",
    "\n",
    "| Número de Processos | Versão com OpenMP (segundos) | Versão sem OpenMP (segundos) |\n",
    "|---------------------|------------------------------|------------------------------|\n",
    "| 10                  | 2.6304e-05                   | 3.49e-07                     |\n",
    "| 100                 | 3.845e-05                    | 1.1486e-05                   |\n",
    "| 1000                | 0.000583252                  | 0.000572533                  |\n",
    "| 10000               | 0.000583252                  | 0.000572533                  |\n",
    "-------------------------------------------------------------------------------------"
   ]
  },
  {
   "cell_type": "markdown",
   "metadata": {},
   "source": [
    "# EX2: Cálculo do Quadrado de cada Elemento da Matriz"
   ]
  },
  {
   "cell_type": "markdown",
   "metadata": {},
   "source": [
    "* **Efeitos Colaterais da Divisão Desigual**: Quando o número de processos não divide o tamanho da matriz de forma exata (como no caso de SIZE = 3), pode ocorrer uma divisão desigual, onde alguns processos recebem menos elementos para processar. Isso pode levar a ineficiências, com alguns processos ociosos após terminarem suas partes mais rapidamente que os outros.\n",
    "\n",
    "* **Solução com Carga Balanceada**: Para evitar problemas causados pela divisão desigual, podemos implementar um código que trate esses casos de forma mais balanceada. Uma abordagem seria usar um sistema de \"carga balanceada\" onde o último processo é responsável por qualquer linha adicional, distribuindo a carga o mais igualmente possível. Outra opção é usar o MPI_Scatterv, que permite definir quantidades de dados diferentes para cada processo."
   ]
  }
 ],
 "metadata": {
  "language_info": {
   "name": "python"
  }
 },
 "nbformat": 4,
 "nbformat_minor": 2
}
