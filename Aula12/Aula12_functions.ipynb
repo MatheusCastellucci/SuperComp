{
  "cells": [
    {
      "cell_type": "code",
      "execution_count": 2,
      "metadata": {
        "colab": {
          "base_uri": "https://localhost:8080/"
        },
        "id": "ITznsOrNCa0T",
        "outputId": "94cf7ceb-8ef2-4a37-8274-d1a0875266c5"
      },
      "outputs": [
        {
          "name": "stdout",
          "output_type": "stream",
          "text": [
            "Fri Sep 20 11:02:05 2024       \n",
            "+---------------------------------------------------------------------------------------+\n",
            "| NVIDIA-SMI 535.104.05             Driver Version: 535.104.05   CUDA Version: 12.2     |\n",
            "|-----------------------------------------+----------------------+----------------------+\n",
            "| GPU  Name                 Persistence-M | Bus-Id        Disp.A | Volatile Uncorr. ECC |\n",
            "| Fan  Temp   Perf          Pwr:Usage/Cap |         Memory-Usage | GPU-Util  Compute M. |\n",
            "|                                         |                      |               MIG M. |\n",
            "|=========================================+======================+======================|\n",
            "|   0  Tesla T4                       Off | 00000000:00:04.0 Off |                    0 |\n",
            "| N/A   64C    P8              13W /  70W |      0MiB / 15360MiB |      0%      Default |\n",
            "|                                         |                      |                  N/A |\n",
            "+-----------------------------------------+----------------------+----------------------+\n",
            "                                                                                         \n",
            "+---------------------------------------------------------------------------------------+\n",
            "| Processes:                                                                            |\n",
            "|  GPU   GI   CI        PID   Type   Process name                            GPU Memory |\n",
            "|        ID   ID                                                             Usage      |\n",
            "|=======================================================================================|\n",
            "|  No running processes found                                                           |\n",
            "+---------------------------------------------------------------------------------------+\n"
          ]
        }
      ],
      "source": [
        "!nvidia-smi"
      ]
    },
    {
      "cell_type": "markdown",
      "metadata": {
        "id": "RKf9pj4wJ3I7"
      },
      "source": [
        "# 1.Implemente o cálculo Saxpy para dois vetores aleatórios, experimente diferentes valores para a constante a e observe os resultados."
      ]
    },
    {
      "cell_type": "code",
      "execution_count": 1,
      "metadata": {
        "colab": {
          "base_uri": "https://localhost:8080/"
        },
        "id": "3QqGA2SAJpHN",
        "outputId": "e52a64ff-5fb7-4d52-e5b7-70a97bac15c4"
      },
      "outputs": [
        {
          "name": "stdout",
          "output_type": "stream",
          "text": [
            "Writing saxpy.cu\n"
          ]
        }
      ],
      "source": [
        "%%writefile saxpy.cu\n",
        "#include <thrust/host_vector.h>\n",
        "#include <thrust/device_vector.h>\n",
        "#include <thrust/transform.h>\n",
        "#include <thrust/copy.h>\n",
        "#include <iostream>\n",
        "\n",
        "struct saxpy\n",
        "{\n",
        "    int a;\n",
        "    saxpy(int a_) : a(a_) {};  // Construtor que inicializa a constante 'a'\n",
        "\n",
        "    __host__ __device__\n",
        "    float operator()(const float& x, const float& y) const {\n",
        "        return a * x + y;  // Operação a ser aplicada a cada elemento de x e y\n",
        "    }\n",
        "};\n",
        "\n",
        "int main() {\n",
        "    // Tamanho dos vetores\n",
        "    int N = 1000;\n",
        "    // Constante 'a'\n",
        "    int a = 5;\n",
        "\n",
        "    // Vetores no host\n",
        "    thrust::host_vector<float> h_x(N);\n",
        "    thrust::host_vector<float> h_y(N);\n",
        "    thrust::host_vector<float> h_z(N);\n",
        "\n",
        "    // Inicializando vetores de entrada com valores aleatórios\n",
        "    for (int i = 0; i < N; i++) {\n",
        "        h_x[i] = static_cast<float>(rand()) / RAND_MAX;\n",
        "        h_y[i] = static_cast<float>(rand()) / RAND_MAX;\n",
        "    }\n",
        "\n",
        "    // Copiando vetores para a GPU\n",
        "    thrust::device_vector<float> d_x = h_x;\n",
        "    thrust::device_vector<float> d_y = h_y;\n",
        "    thrust::device_vector<float> d_z(N);\n",
        "\n",
        "    // Aplicando a transformação SAXPY: z = a*x + y\n",
        "    thrust::transform(d_x.begin(), d_x.end(), d_y.begin(), d_z.begin(), saxpy(a));\n",
        "\n",
        "    // Copiando o resultado de volta para o host\n",
        "    thrust::copy(d_z.begin(), d_z.end(), h_z.begin());\n",
        "\n",
        "    // Exibindo alguns resultados\n",
        "    std::cout << \"Exemplo de resultados (5 primeiros elementos):\" << std::endl;\n",
        "    for (int i = 0; i < 5; i++) {\n",
        "        std::cout << \"a * x[\" << i << \"] + y[\" << i << \"] = \" << a << \" * \" << h_x[i] << \" + \" << h_y[i] << \" = \" << h_z[i] << std::endl;\n",
        "    }\n",
        "\n",
        "    return 0;\n",
        "}"
      ]
    },
    {
      "cell_type": "code",
      "execution_count": 2,
      "metadata": {
        "id": "4qqpeVnDHlgq"
      },
      "outputs": [],
      "source": [
        "!nvcc -arch=sm_70 -std=c++14 saxpy.cu -o saxpy"
      ]
    },
    {
      "cell_type": "code",
      "execution_count": 5,
      "metadata": {
        "colab": {
          "base_uri": "https://localhost:8080/"
        },
        "id": "8lWlMzgwHlkD",
        "outputId": "7f6c062f-e217-4914-a4e9-dc2b46c9ce60"
      },
      "outputs": [
        {
          "name": "stdout",
          "output_type": "stream",
          "text": [
            "Exemplo de resultados (5 primeiros elementos):\n",
            "a * x[0] + y[0] = 5 * 0.840188 + 0.394383 = 4.59532\n",
            "a * x[1] + y[1] = 5 * 0.783099 + 0.79844 = 4.71394\n",
            "a * x[2] + y[2] = 5 * 0.911647 + 0.197551 = 4.75579\n",
            "a * x[3] + y[3] = 5 * 0.335223 + 0.76823 = 2.44434\n",
            "a * x[4] + y[4] = 5 * 0.277775 + 0.55397 = 1.94284\n"
          ]
        }
      ],
      "source": [
        "!./saxpy"
      ]
    },
    {
      "cell_type": "markdown",
      "metadata": {
        "id": "hMqYgVRzJ-2o"
      },
      "source": [
        "# 2.Implemente uma função que calcula a magnitude de um vetor de floats. Compare os resultados com uma implementação em C++ feita na CPU para ver a diferença no tempo de execução."
      ]
    },
    {
      "cell_type": "code",
      "execution_count": 6,
      "metadata": {
        "colab": {
          "base_uri": "https://localhost:8080/"
        },
        "id": "msYRBM7yJvia",
        "outputId": "fa7e839a-9409-49d1-fbb4-4e04e0120197"
      },
      "outputs": [
        {
          "name": "stdout",
          "output_type": "stream",
          "text": [
            "Writing magnitude_gpu.cu\n"
          ]
        }
      ],
      "source": [
        "%%writefile magnitude_gpu.cu\n",
        "#include <thrust/host_vector.h>\n",
        "#include <thrust/device_vector.h>\n",
        "#include <thrust/transform_reduce.h>\n",
        "#include <thrust/functional.h>\n",
        "#include <iostream>\n",
        "#include <cmath>\n",
        "#include <chrono>\n",
        "\n",
        "// Functor para elevar ao quadrado\n",
        "struct square\n",
        "{\n",
        "    __host__ __device__\n",
        "    float operator()(const float& x) const {\n",
        "        return x * x;\n",
        "    }\n",
        "};\n",
        "\n",
        "// Função para calcular a magnitude de um vetor na GPU\n",
        "float magnitude_gpu(const thrust::device_vector<float>& v) {\n",
        "    // Calcula a soma dos quadrados usando transform_reduce\n",
        "    float sum_of_squares = thrust::transform_reduce(v.begin(), v.end(), square(), 0.0f, thrust::plus<float>());\n",
        "    return std::sqrt(sum_of_squares);\n",
        "}\n",
        "\n",
        "int main() {\n",
        "    int N = 1000000;  // Tamanho do vetor\n",
        "\n",
        "    // Vetor no host (CPU)\n",
        "    thrust::host_vector<float> h_v(N);\n",
        "\n",
        "    // Inicializando vetor com valores aleatórios\n",
        "    for (int i = 0; i < N; i++) {\n",
        "        h_v[i] = static_cast<float>(rand()) / RAND_MAX;\n",
        "    }\n",
        "\n",
        "    // Copiando o vetor para a GPU\n",
        "    thrust::device_vector<float> d_v = h_v;\n",
        "\n",
        "    // Calculando magnitude na GPU\n",
        "    auto start_gpu = std::chrono::high_resolution_clock::now();\n",
        "    float magnitude_result_gpu = magnitude_gpu(d_v);\n",
        "    auto end_gpu = std::chrono::high_resolution_clock::now();\n",
        "    std::chrono::duration<float, std::milli> gpu_duration = end_gpu - start_gpu;\n",
        "\n",
        "    std::cout << \"Magnitude calculada na GPU: \" << magnitude_result_gpu << std::endl;\n",
        "    std::cout << \"Tempo de execução na GPU: \" << gpu_duration.count() << \" ms\" << std::endl;\n",
        "\n",
        "    return 0;\n",
        "}\n"
      ]
    },
    {
      "cell_type": "code",
      "execution_count": 7,
      "metadata": {
        "id": "k_SIHc14KFps"
      },
      "outputs": [],
      "source": [
        "!nvcc -arch=sm_70 -std=c++14 magnitude_gpu.cu -o magnitude_gpu"
      ]
    },
    {
      "cell_type": "code",
      "execution_count": 10,
      "metadata": {
        "colab": {
          "base_uri": "https://localhost:8080/"
        },
        "id": "F5v1QQjCKFtx",
        "outputId": "66b67137-3150-4c46-93c4-17055dd20e30"
      },
      "outputs": [
        {
          "name": "stdout",
          "output_type": "stream",
          "text": [
            "Magnitude calculada na GPU: 577.328\n",
            "Tempo de execução na GPU: 0.688586 ms\n"
          ]
        }
      ],
      "source": [
        "!./magnitude_gpu"
      ]
    },
    {
      "cell_type": "code",
      "execution_count": 1,
      "metadata": {
        "colab": {
          "base_uri": "https://localhost:8080/"
        },
        "id": "-Pnj3AwZKjIV",
        "outputId": "8eb02c34-7327-4dd2-aa89-36bbe402ddd7"
      },
      "outputs": [
        {
          "name": "stdout",
          "output_type": "stream",
          "text": [
            "Writing magnitude_cpu.cpp\n"
          ]
        }
      ],
      "source": [
        "# Mudei o ambiente de execução para rodar as coisas aqui dessa parte, so para poder manter tudo em um mesmo notebook\n",
        "%%writefile magnitude_cpu.cpp\n",
        "#include <iostream>\n",
        "#include <cmath>\n",
        "#include <vector>\n",
        "#include <chrono>\n",
        "\n",
        "// Função para calcular a magnitude de um vetor na CPU\n",
        "float magnitude_cpu(const std::vector<float>& v) {\n",
        "    float sum_of_squares = 0.0f;\n",
        "    for (size_t i = 0; i < v.size(); i++) {\n",
        "        sum_of_squares += v[i] * v[i];\n",
        "    }\n",
        "    return std::sqrt(sum_of_squares);\n",
        "}\n",
        "\n",
        "int main() {\n",
        "    int N = 1000000;  // Tamanho do vetor\n",
        "\n",
        "    // Vetor no host (CPU)\n",
        "    std::vector<float> h_v(N);\n",
        "\n",
        "    // Inicializando vetor com valores aleatórios\n",
        "    for (int i = 0; i < N; i++) {\n",
        "        h_v[i] = static_cast<float>(rand()) / RAND_MAX;\n",
        "    }\n",
        "\n",
        "    // Calculando magnitude na CPU\n",
        "    auto start_cpu = std::chrono::high_resolution_clock::now();\n",
        "    float magnitude_result_cpu = magnitude_cpu(h_v);\n",
        "    auto end_cpu = std::chrono::high_resolution_clock::now();\n",
        "    std::chrono::duration<float, std::milli> cpu_duration = end_cpu - start_cpu;\n",
        "\n",
        "    std::cout << \"Magnitude calculada na CPU: \" << magnitude_result_cpu << std::endl;\n",
        "    std::cout << \"Tempo de execução na CPU: \" << cpu_duration.count() << \" ms\" << std::endl;\n",
        "\n",
        "    return 0;\n",
        "}\n"
      ]
    },
    {
      "cell_type": "code",
      "execution_count": 2,
      "metadata": {
        "id": "MP0BgP5SLCWE"
      },
      "outputs": [],
      "source": [
        "!g++ magnitude_cpu.cpp -o magnitude_cpu"
      ]
    },
    {
      "cell_type": "code",
      "execution_count": 3,
      "metadata": {
        "colab": {
          "base_uri": "https://localhost:8080/"
        },
        "id": "KuXuWmlLLCi9",
        "outputId": "0b4d9a16-3595-404b-d755-6a697291d23b"
      },
      "outputs": [
        {
          "name": "stdout",
          "output_type": "stream",
          "text": [
            "Magnitude calculada na CPU: 577.228\n",
            "Tempo de execução na CPU: 8.57547 ms\n"
          ]
        }
      ],
      "source": [
        "!./magnitude_cpu\n"
      ]
    },
    {
      "cell_type": "markdown",
      "metadata": {
        "id": "seJjHPdfMXm5"
      },
      "source": [
        "# 3.Implemente o cálculo da variância usando a técnica de fusion kernel. Compare o desempenho com a implementação que calcula a média e a variância em etapas separadas. Use diferentes tamanhos de vetor e observe as diferenças de desempenho."
      ]
    },
    {
      "cell_type": "code",
      "execution_count": 30,
      "metadata": {
        "colab": {
          "base_uri": "https://localhost:8080/"
        },
        "id": "X-OUrxhNMa0B",
        "outputId": "0d060157-0e7f-4e95-c52a-4574d03d030a"
      },
      "outputs": [
        {
          "name": "stdout",
          "output_type": "stream",
          "text": [
            "Overwriting fusion_kernel.cu\n"
          ]
        }
      ],
      "source": [
        "%%writefile fusion_kernel.cu\n",
        "#include <thrust/host_vector.h>\n",
        "#include <thrust/device_vector.h>\n",
        "#include <thrust/transform_reduce.h>\n",
        "#include <thrust/functional.h>\n",
        "#include <iostream>\n",
        "#include <cmath>\n",
        "#include <chrono>\n",
        "\n",
        "// Functor para cálculo da variância\n",
        "struct variance_op\n",
        "{\n",
        "    float mean;\n",
        "    variance_op(float mean_) : mean(mean_) {}\n",
        "\n",
        "    __host__ __device__\n",
        "    float operator()(const float& x) const {\n",
        "        float diff = x - mean;\n",
        "        return diff * diff;\n",
        "    }\n",
        "};\n",
        "\n",
        "// Função para calcular a variância usando Fusion Kernel na GPU\n",
        "float calculate_variance_gpu(const thrust::device_vector<float>& d_vec, float mean) {\n",
        "    return thrust::transform_reduce(d_vec.begin(), d_vec.end(), variance_op(mean), 0.0f, thrust::plus<float>()) / d_vec.size();\n",
        "}\n",
        "\n",
        "int main() {\n",
        "    // Vetores de tamanhos a serem testados\n",
        "    int sizes[] = {1000000, 10000000};\n",
        "\n",
        "    for (int size : sizes) {\n",
        "        std::cout << \"\\nTamanho do vetor: \" << size << std::endl;\n",
        "\n",
        "        // Vetor no host (CPU)\n",
        "        thrust::host_vector<float> h_vec(size);\n",
        "\n",
        "        // Inicializando vetor com valores aleatórios entre 0 e 100\n",
        "        for (int i = 0; i < size; i++) {\n",
        "            h_vec[i] = static_cast<float>(rand()) / RAND_MAX * 100.0f;\n",
        "        }\n",
        "\n",
        "        // Copiando o vetor para a GPU\n",
        "        thrust::device_vector<float> d_vec = h_vec;\n",
        "\n",
        "        // Calculando a média na CPU\n",
        "        float mean = thrust::reduce(d_vec.begin(), d_vec.end(), 0.0f, thrust::plus<float>()) / size;\n",
        "\n",
        "        // Calculando variância na GPU com Fusion Kernel\n",
        "        auto start_gpu = std::chrono::high_resolution_clock::now();\n",
        "        float variance_result_gpu = calculate_variance_gpu(d_vec, mean);\n",
        "        auto end_gpu = std::chrono::high_resolution_clock::now();\n",
        "        std::chrono::duration<float, std::milli> gpu_duration = end_gpu - start_gpu;\n",
        "\n",
        "        std::cout << \"Variância calculada na GPU com Fusion Kernel: \" << variance_result_gpu << std::endl;\n",
        "        std::cout << \"Tempo de execução na GPU: \" << gpu_duration.count() << \" ms\" << std::endl;\n",
        "    }\n",
        "\n",
        "    return 0;\n",
        "}\n"
      ]
    },
    {
      "cell_type": "code",
      "execution_count": 32,
      "metadata": {
        "id": "AhPpq5QHN8oO"
      },
      "outputs": [],
      "source": [
        "!nvcc -arch=sm_70 -std=c++14 fusion_kernel.cu -o fusion_kernel"
      ]
    },
    {
      "cell_type": "code",
      "execution_count": 33,
      "metadata": {
        "colab": {
          "base_uri": "https://localhost:8080/"
        },
        "id": "669LGgxxN8uD",
        "outputId": "b35d8ee1-20e2-484f-ea99-71f2438c910a"
      },
      "outputs": [
        {
          "name": "stdout",
          "output_type": "stream",
          "text": [
            "\n",
            "Tamanho do vetor: 1000000\n",
            "Variância calculada na GPU com Fusion Kernel: 833.013\n",
            "Tempo de execução na GPU: 0.230088 ms\n",
            "\n",
            "Tamanho do vetor: 10000000\n",
            "Variância calculada na GPU com Fusion Kernel: 833.262\n",
            "Tempo de execução na GPU: 0.343751 ms\n"
          ]
        }
      ],
      "source": [
        "!./fusion_kernel"
      ]
    },
    {
      "cell_type": "code",
      "execution_count": 34,
      "metadata": {
        "colab": {
          "base_uri": "https://localhost:8080/"
        },
        "id": "uueHEWKcS-V9",
        "outputId": "18bbb4f8-3f77-4db9-eaf8-5d90043eb0f9"
      },
      "outputs": [
        {
          "name": "stdout",
          "output_type": "stream",
          "text": [
            "Overwriting no_fusion_kernel.cu\n"
          ]
        }
      ],
      "source": [
        "%%writefile no_fusion_kernel.cu\n",
        "#include <thrust/host_vector.h>\n",
        "#include <thrust/device_vector.h>\n",
        "#include <thrust/transform_reduce.h>\n",
        "#include <thrust/functional.h>\n",
        "#include <iostream>\n",
        "#include <cmath>\n",
        "#include <chrono>\n",
        "\n",
        "// Functor para cálculo da diferença ao quadrado em relação à média\n",
        "struct squared_diff\n",
        "{\n",
        "    float mean;\n",
        "    squared_diff(float mean_) : mean(mean_) {}\n",
        "\n",
        "    __host__ __device__\n",
        "    float operator()(const float& x) const {\n",
        "        float diff = x - mean;\n",
        "        return diff * diff;\n",
        "    }\n",
        "};\n",
        "\n",
        "int main() {\n",
        "    // Vetores de tamanhos a serem testados\n",
        "    int sizes[] = {1000000, 10000000};\n",
        "\n",
        "    for (int size : sizes) {\n",
        "        std::cout << \"\\nTamanho do vetor: \" << size << std::endl;\n",
        "\n",
        "        // Vetor no host (CPU)\n",
        "        thrust::host_vector<float> h_vec(size);\n",
        "\n",
        "        // Inicializando vetor com valores aleatórios entre 0 e 100\n",
        "        for (int i = 0; i < size; i++) {\n",
        "            h_vec[i] = static_cast<float>(rand()) / RAND_MAX * 100.0f;\n",
        "        }\n",
        "\n",
        "        // Copiando o vetor para a GPU\n",
        "        thrust::device_vector<float> d_vec = h_vec;\n",
        "\n",
        "        // Calculando a média na GPU\n",
        "        auto start_mean = std::chrono::high_resolution_clock::now();\n",
        "        float mean = thrust::reduce(d_vec.begin(), d_vec.end(), 0.0f, thrust::plus<float>()) / size;\n",
        "        auto end_mean = std::chrono::high_resolution_clock::now();\n",
        "        std::chrono::duration<float, std::milli> mean_duration = end_mean - start_mean;\n",
        "\n",
        "        std::cout << \"Média calculada na GPU: \" << mean << std::endl;\n",
        "        std::cout << \"Tempo de execução na GPU (média): \" << mean_duration.count() << \" ms\" << std::endl;\n",
        "\n",
        "        // Calculando a variância na GPU usando transform_reduce\n",
        "        auto start_variance = std::chrono::high_resolution_clock::now();\n",
        "        float variance = thrust::transform_reduce(d_vec.begin(), d_vec.end(), squared_diff(mean), 0.0f, thrust::plus<float>()) / size;\n",
        "        auto end_variance = std::chrono::high_resolution_clock::now();\n",
        "        std::chrono::duration<float, std::milli> variance_duration = end_variance - start_variance;\n",
        "\n",
        "        std::cout << \"Variância calculada de forma tradicional na GPU: \" << variance << std::endl;\n",
        "        std::cout << \"Tempo de execução na GPU (variância): \" << variance_duration.count() << \" ms\" << std::endl;\n",
        "\n",
        "        // Tempo total\n",
        "        std::cout << \"Tempo total de execução na GPU (sem Fusion Kernel): \" << (mean_duration.count() + variance_duration.count()) << \" ms\" << std::endl;\n",
        "    }\n",
        "\n",
        "    return 0;\n",
        "}"
      ]
    },
    {
      "cell_type": "code",
      "execution_count": 35,
      "metadata": {
        "id": "d8KBkotbTGAs"
      },
      "outputs": [],
      "source": [
        "!nvcc -arch=sm_70 -std=c++14 no_fusion_kernel.cu -o no_fusion_kernel"
      ]
    },
    {
      "cell_type": "code",
      "execution_count": 36,
      "metadata": {
        "colab": {
          "base_uri": "https://localhost:8080/"
        },
        "id": "cSLpZvITTGEI",
        "outputId": "921fbdb6-23ab-4881-af04-27fda4d3538d"
      },
      "outputs": [
        {
          "name": "stdout",
          "output_type": "stream",
          "text": [
            "\n",
            "Tamanho do vetor: 1000000\n",
            "Média calculada na GPU: 50.0007\n",
            "Tempo de execução na GPU (média): 1.06094 ms\n",
            "Variância calculada de forma tradicional na GPU: 833.013\n",
            "Tempo de execução na GPU (variância): 0.319969 ms\n",
            "Tempo total de execução na GPU (sem Fusion Kernel): 1.38091 ms\n",
            "\n",
            "Tamanho do vetor: 10000000\n",
            "Média calculada na GPU: 50.001\n",
            "Tempo de execução na GPU (média): 0.553541 ms\n",
            "Variância calculada de forma tradicional na GPU: 833.262\n",
            "Tempo de execução na GPU (variância): 0.430848 ms\n",
            "Tempo total de execução na GPU (sem Fusion Kernel): 0.984389 ms\n"
          ]
        }
      ],
      "source": [
        "!./no_fusion_kernel"
      ]
    },
    {
      "cell_type": "markdown",
      "metadata": {
        "id": "Fg93JfXsPzZG"
      },
      "source": [
        "# Comparação\n",
        "\n",
        "O método com **Fusion Kernel (GPU)** apresentou melhor desempenho geral, pois teve tempos de execução significativamente menores em comparação ao método **Sem Fusion Kernel (GPU)** para ambos os tamanhos de vetor (`1.000.000` e `10.000.000`).\n",
        "\n",
        "### Comparação dos tempos de execução:\n",
        "- Para o vetor de tamanho **1.000.000**:\n",
        "  - **Fusion Kernel (GPU)**: 0.261 ms\n",
        "  - **Sem Fusion Kernel (GPU)**: 0.689 ms\n",
        "\n",
        "- Para o vetor de tamanho **10.000.000**:\n",
        "  - **Fusion Kernel (GPU)**: 2.512 ms\n",
        "  - **Sem Fusion Kernel (GPU)**: 6.925 ms\n",
        "\n",
        "### Conclusão:\n",
        "O método com Fusion Kernel foi mais eficiente em termos de tempo de execução para ambos os tamanhos de vetor, mostrando a vantagem de combinar operações em um único kernel na GPU, evitando overheads de múltiplas passagens de dados e sincronizações."
      ]
    }
  ],
  "metadata": {
    "accelerator": "GPU",
    "colab": {
      "gpuType": "T4",
      "provenance": []
    },
    "kernelspec": {
      "display_name": "Python 3",
      "name": "python3"
    },
    "language_info": {
      "name": "python"
    }
  },
  "nbformat": 4,
  "nbformat_minor": 0
}
