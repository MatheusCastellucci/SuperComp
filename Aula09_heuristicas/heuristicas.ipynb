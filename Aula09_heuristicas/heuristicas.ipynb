{
 "cells": [
  {
   "cell_type": "markdown",
   "metadata": {},
   "source": [
    "# Entrega - Aula 9"
   ]
  },
  {
   "cell_type": "markdown",
   "metadata": {},
   "source": [
    "Aluno: Matheus Raffaelle Nery Castellucci"
   ]
  },
  {
   "cell_type": "markdown",
   "metadata": {},
   "source": [
    "## Question 1 - Compare esta heurística com a da seção anterior levando em conta a complexidade computacional.\n",
    "\n",
    "Embora as duas abordagens tenham a mesma complexidade computacional, $O(𝑛log𝑛)$, elas podem produzir resultados bastante diferentes em termos do valor final obtido. A heurística \"Mais caro primeiro\" geralmente maximiza o valor total, enquanto a \"Mais leve primeiro\" maximiza a quantidade de itens, mas pode acabar resultando em um valor total menor. A escolha da heurística depende das características do problema e do que se deseja otimizar (valor ou quantidade)."
   ]
  },
  {
   "cell_type": "markdown",
   "metadata": {},
   "source": [
    "## Question 2 - Quais partes do programa da heurística anterior podem ser aproveitadas para implementar a descrita acima?\n",
    "\n",
    "Quase todas as partes do código podem ser reaproveitadas, com exceção do critério de ordenação e do nome da função que seleciona os objetos. As principais partes reutilizáveis incluem:\n",
    "\n",
    "* Definição da estrutura Objeto.\n",
    "* Leitura dos dados do arquivo.\n",
    "* Medição do tempo de execução.\n",
    "* Estrutura do main().\n",
    "\n",
    "As únicas mudanças necessárias são na função de comparação (ordenar pelo peso em vez de valor) e na função de seleção."
   ]
  },
  {
   "cell_type": "markdown",
   "metadata": {},
   "source": [
    "## *Mais caro primeiro*\n",
    "\n",
    "#### Resultado da Entrada1.txt\n",
    "\n",
    "* Valor total dos objetos selecionados: 171\n",
    "* Tempo de execução: 7.425e-06 segundos\n",
    "\n",
    "#### Resultado da Entrada2.txt\n",
    "\n",
    "* Valor total dos objetos selecionados: 292\n",
    "* Tempo de execução: 1.1175e-05 segundos\n",
    "\n",
    "#### Resultado da Entrada3.txt\n",
    "\n",
    "* Valor total dos objetos selecionados: 139\n",
    "* Tempo de execução: 4.255e-06 segundos\n",
    "\n",
    "\n",
    "## *Mais leve primeiro*\n",
    "\n",
    "#### Resultado da Entrada1.txt\n",
    "\n",
    "* Valor total dos objetos selecionados: 185\n",
    "* Tempo de execução: 7.423e-06 segundos\n",
    "\n",
    "#### Resultado da Entrada2.txt\n",
    "\n",
    "* Valor total dos objetos selecionados: 387\n",
    "* Tempo de execução: 1.1714e-05 segundos\n",
    "\n",
    "#### Resultado da Entrada3.txt\n",
    "\n",
    "* Valor total dos objetos selecionados: 79\n",
    "* Tempo de execução: 4.18e-06 segundos"
   ]
  },
  {
   "cell_type": "markdown",
   "metadata": {},
   "source": [
    "## Question 5 - Com base nas suas respostas acima, em quais situações a heurística do mais valioso é melhor?\n",
    "\n",
    "Heurística \"Mais caro primeiro\" é melhor quando:\n",
    "* O objetivo é maximizar o valor total dos itens na mochila, independentemente da quantidade.\n",
    "* Existem itens com valores muito altos que são escassos e não há tantas restrições de capacidade que impedem sua seleção.\n",
    "* O valor é mais importante do que a quantidade de itens escolhidos.\n",
    "\n",
    "Em situações onde a capacidade é um grande fator limitante e há muitos itens de peso leve que podem ser aproveitados, a heurística \"Mais leve primeiro\" pode resultar em um valor agregado maior, mas essa não é a norma para a maioria dos casos onde o valor total é mais importante."
   ]
  },
  {
   "cell_type": "markdown",
   "metadata": {},
   "source": [
    "## Question 6 - Com base nas suas respostas acima, em quais situações a heurística do mais leve é melhor?\n",
    "\n",
    "Heurística \"Mais leve primeiro\" é melhor quando:\n",
    "* A capacidade da mochila é limitada e é possível incluir muitos itens leves.\n",
    "* A lista de itens contém vários itens leves de valor moderado, tornando viável maximizar a quantidade de itens e alcançar um bom valor total.\n",
    "* O valor dos itens é distribuído de forma relativamente uniforme, ou seja, não há itens muito valiosos que poderiam desequilibrar a solução.\n",
    "* O foco está em maximizar o número de itens, e não necessariamente o valor total.\n",
    "\n",
    "Essa abordagem é útil em contextos onde há muitos itens pequenos e leves, e a limitação de capacidade exige uma otimização com foco na quantidade ao invés do valor individual."
   ]
  },
  {
   "cell_type": "markdown",
   "metadata": {},
   "source": [
    "## Question 7 - Qual a complexidade computacional das abordagens?\n",
    "\n",
    "Ambas as abordagens, \"Mais caro primeiro\" e \"Mais leve primeiro\", têm a mesma complexidade computacional total de 𝑂(𝑛log𝑛), uma vez que o passo mais custoso em ambas é a ordenação dos itens. Após a ordenação, a seleção dos itens é feita em tempo linear 𝑂(𝑛), o que não afeta a complexidade total, já que a ordenação domina o custo.\n",
    "\n",
    "A principal diferença entre as abordagens não está na eficiência computacional, mas sim na estratégia de seleção (valor versus peso) e nos cenários em que cada heurística pode produzir melhores resultados, como discutido anteriormente."
   ]
  },
  {
   "cell_type": "markdown",
   "metadata": {},
   "source": [
    "## Question 8 - Quando uma é melhor que a outra?\n",
    "\n",
    "Dependendo da distribuição dos itens em termos de peso e valor, uma heurística pode ser mais vantajosa que a outra. A decisão sobre qual heurística usar depende diretamente do objetivo (maximizar valor ou quantidade) e das restrições impostas (como a capacidade da mochila).\n",
    "\n",
    "* \"Mais caro primeiro\" é ideal quando o foco está no valor total dos itens, especialmente em situações onde há itens com valores muito elevados que precisam ser priorizados.\n",
    "* \"Mais leve primeiro\" é mais eficaz quando há uma abundância de itens leves que podem ser escolhidos para maximizar a quantidade ou quando a capacidade da mochila é pequena e não permite carregar itens pesados."
   ]
  },
  {
   "cell_type": "markdown",
   "metadata": {},
   "source": [
    "## Question 9 - Alguma consegue obter o melhor valor possível?\n",
    "\n",
    "Nenhuma das heurísticas simples, como \"Mais caro primeiro\" ou \"Mais leve primeiro\", garante que o melhor valor possível (a solução ótima) seja sempre alcançado para o problema de seleção de itens com uma capacidade limitada (como o problema da mochila). Essas heurísticas são aproximadas e, apesar de serem rápidas e eficientes em termos de complexidade computacional, elas podem falhar em encontrar a solução ótima em muitos casos."
   ]
  }
 ],
 "metadata": {
  "language_info": {
   "name": "python"
  }
 },
 "nbformat": 4,
 "nbformat_minor": 2
}
