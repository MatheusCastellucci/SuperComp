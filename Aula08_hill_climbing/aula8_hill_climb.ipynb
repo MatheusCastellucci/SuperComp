{
 "cells": [
  {
   "cell_type": "markdown",
   "metadata": {},
   "source": [
    "# Entrega - Aula 8"
   ]
  },
  {
   "cell_type": "markdown",
   "metadata": {},
   "source": [
    "Aluno: Matheus Raffaelle Nery Castellucci"
   ]
  },
  {
   "cell_type": "markdown",
   "metadata": {},
   "source": [
    "## Resultado da Entrada1.txt\n",
    "\n",
    "* Peso total antes da Mochila Cheia: 299\n",
    "* Valor total antes da Mochila Cheia: 242\n",
    "* Peso total depois da Mochila Cheia: 373\n",
    "* Valor total depois da Mochila Cheia: 328\n",
    "* Peso total depois da Substituição de Objeto: 271\n",
    "* Valor total depois da Substituição de Objeto: 435\n",
    "* Peso total depois do Hill Climbing: 355\n",
    "* Valor total depois do Hill Climbing: 507\n",
    "* Tempo de execução: 0.000819954 segundos"
   ]
  },
  {
   "cell_type": "markdown",
   "metadata": {},
   "source": [
    "## Resultado da Entrada2.txt\n",
    "\n",
    "* Peso total antes da Mochila Cheia: 217\n",
    "* Valor total antes da Mochila Cheia: 192\n",
    "* Peso total depois da Mochila Cheia: 238\n",
    "* Valor total depois da Mochila Cheia: 254\n",
    "* Peso total depois da Substituição de Objeto: 120\n",
    "* Valor total depois da Substituição de Objeto: 376\n",
    "* Peso total depois do Hill Climbing: 238\n",
    "* Valor total depois do Hill Climbing: 613\n",
    "* Tempo de execução: 0.00284227 segundos"
   ]
  },
  {
   "cell_type": "markdown",
   "metadata": {},
   "source": [
    "## Resultado da Entrada3.txt\n",
    "\n",
    "* Peso total antes da Mochila Cheia: 456\n",
    "* Valor total antes da Mochila Cheia: 381\n",
    "* Peso total depois da Mochila Cheia: 598\n",
    "* Valor total depois da Mochila Cheia: 553\n",
    "* Peso total depois da Substituição de Objeto: 558\n",
    "* Valor total depois da Substituição de Objeto: 612\n",
    "* Peso total depois do Hill Climbing: 589\n",
    "* Valor total depois do Hill Climbing: 634\n",
    "* Tempo de execução: 0.000317596 segundos"
   ]
  },
  {
   "cell_type": "markdown",
   "metadata": {},
   "source": [
    "## Tempo de Execução\n",
    "Nos três conjuntos de testes, os algoritmos da aula 7, Embaralhar e Preencher e Seleção Aleatória, demonstraram tempos de execução mais rápidos. O Embaralhar e Preencher foi o mais eficiente, levando apenas 400 ns na Entrada 1 e 500 ns nas Entradas 2 e 3, tornando-se uma opção ideal para situações em que a prioridade é o tempo de execução.\n",
    "\n",
    "Já os algoritmos da aula 8, como Substituição de Objeto e Hill Climbing, apresentaram tempos mais elevados. O Substituição de Objeto foi o mais demorado, com 10.500 ns na Entrada 1 e 13.800 ns na Entrada 2. Em contrapartida, o Hill Climbing teve desempenho mais ágil, variando entre 819 ns e 2.842 ns, sendo uma boa alternativa quando se busca equilíbrio entre tempo e qualidade de solução."
   ]
  },
  {
   "cell_type": "markdown",
   "metadata": {},
   "source": [
    "## Qualidade das Soluções\n",
    "Quando analisamos a qualidade das soluções, os algoritmos da aula 8 superaram claramente os da aula 7. O Substituição de Objeto obteve os melhores resultados, com valores de 435 na Entrada 1 e 612 na Entrada 3, demonstrando sua eficácia em maximizar o valor da mochila, embora leve mais tempo.\n",
    "\n",
    "O Hill Climbing também alcançou bons resultados, especialmente na Entrada 3, com valor total de 634, embora tenha apresentado uma leve queda de desempenho nas outras entradas, obtendo 507 na Entrada 1 e 613 na Entrada 2.\n",
    "\n",
    "Por outro lado, os algoritmos da aula 7, como Embaralhar e Preencher e Seleção Aleatória, tiveram soluções de qualidade inferior. Embaralhar e Preencher apresentou valores aceitáveis, mas abaixo dos algoritmos da aula 8, enquanto Seleção Aleatória foi menos consistente e confiável na maximização do valor da mochila, sugerindo que sua maior vantagem é o tempo de execução, e não a qualidade da solução."
   ]
  },
  {
   "cell_type": "markdown",
   "metadata": {},
   "source": []
  }
 ],
 "metadata": {
  "language_info": {
   "name": "python"
  }
 },
 "nbformat": 4,
 "nbformat_minor": 2
}
