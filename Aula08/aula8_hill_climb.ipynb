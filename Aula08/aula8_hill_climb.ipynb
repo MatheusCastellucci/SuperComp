{
 "cells": [
  {
   "cell_type": "markdown",
   "metadata": {},
   "source": [
    "# Entrega - Aula 8"
   ]
  },
  {
   "cell_type": "markdown",
   "metadata": {},
   "source": [
    "Aluno: Matheus Raffaelle Nery Castellucci"
   ]
  },
  {
   "cell_type": "markdown",
   "metadata": {},
   "source": [
    "## Resultado da Entrada1.txt\n",
    "\n",
    "* Peso total antes da Mochila Cheia: 299\n",
    "* Valor total antes da Mochila Cheia: 242\n",
    "* Peso total depois da Mochila Cheia: 373\n",
    "* Valor total depois da Mochila Cheia: 328\n",
    "* Peso total depois da Substituição de Objeto: 271\n",
    "* Valor total depois da Substituição de Objeto: 435\n",
    "* Peso total depois do Hill Climbing: 355\n",
    "* Valor total depois do Hill Climbing: 507\n",
    "* Tempo de execução: 0.000819954 segundos"
   ]
  },
  {
   "cell_type": "markdown",
   "metadata": {},
   "source": [
    "## Resultado da Entrada2.txt\n",
    "\n",
    "* Peso total antes da Mochila Cheia: 217\n",
    "* Valor total antes da Mochila Cheia: 192\n",
    "* Peso total depois da Mochila Cheia: 238\n",
    "* Valor total depois da Mochila Cheia: 254\n",
    "* Peso total depois da Substituição de Objeto: 120\n",
    "* Valor total depois da Substituição de Objeto: 376\n",
    "* Peso total depois do Hill Climbing: 238\n",
    "* Valor total depois do Hill Climbing: 613\n",
    "* Tempo de execução: 0.00284227 segundos"
   ]
  },
  {
   "cell_type": "markdown",
   "metadata": {},
   "source": [
    "## Resultado da Entrada3.txt\n",
    "\n",
    "* Peso total antes da Mochila Cheia: 456\n",
    "* Valor total antes da Mochila Cheia: 381\n",
    "* Peso total depois da Mochila Cheia: 598\n",
    "* Valor total depois da Mochila Cheia: 553\n",
    "* Peso total depois da Substituição de Objeto: 558\n",
    "* Valor total depois da Substituição de Objeto: 612\n",
    "* Peso total depois do Hill Climbing: 589\n",
    "* Valor total depois do Hill Climbing: 634\n",
    "* Tempo de execução: 0.000317596 segundos"
   ]
  }
 ],
 "metadata": {
  "language_info": {
   "name": "python"
  }
 },
 "nbformat": 4,
 "nbformat_minor": 2
}
