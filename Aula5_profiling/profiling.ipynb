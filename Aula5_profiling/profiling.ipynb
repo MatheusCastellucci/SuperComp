{
 "cells": [
  {
   "cell_type": "code",
   "execution_count": null,
   "metadata": {},
   "outputs": [],
   "source": [
    "iterations = [30, 50, 100]\n",
    "\n",
    "conv_basicao = [1.69188, 2.79861, 5.59615]\n",
    "\n",
    "conv_O1 = [0.452156, 0.752755, 1.51113]\n",
    "\n",
    "conv_O2 = [0.349942, 0.589431, 1.15623]\n",
    "\n",
    "conv_O3 = [0.154889, 0.257995, 0.510813]"
   ]
  },
  {
   "cell_type": "code",
   "execution_count": null,
   "metadata": {},
   "outputs": [],
   "source": []
  }
 ],
 "metadata": {
  "language_info": {
   "name": "python"
  }
 },
 "nbformat": 4,
 "nbformat_minor": 2
}
