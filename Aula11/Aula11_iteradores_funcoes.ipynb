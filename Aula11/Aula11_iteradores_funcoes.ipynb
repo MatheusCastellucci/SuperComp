{
  "nbformat": 4,
  "nbformat_minor": 0,
  "metadata": {
    "colab": {
      "provenance": [],
      "gpuType": "T4"
    },
    "kernelspec": {
      "name": "python3",
      "display_name": "Python 3"
    },
    "language_info": {
      "name": "python"
    },
    "accelerator": "GPU"
  },
  "cells": [
    {
      "cell_type": "code",
      "execution_count": 1,
      "metadata": {
        "colab": {
          "base_uri": "https://localhost:8080/"
        },
        "id": "ZAjOTiCJI12r",
        "outputId": "47460c52-951e-454d-d6d1-b13c0ba99cd7"
      },
      "outputs": [
        {
          "output_type": "stream",
          "name": "stdout",
          "text": [
            "Wed Sep 18 17:18:00 2024       \n",
            "+---------------------------------------------------------------------------------------+\n",
            "| NVIDIA-SMI 535.104.05             Driver Version: 535.104.05   CUDA Version: 12.2     |\n",
            "|-----------------------------------------+----------------------+----------------------+\n",
            "| GPU  Name                 Persistence-M | Bus-Id        Disp.A | Volatile Uncorr. ECC |\n",
            "| Fan  Temp   Perf          Pwr:Usage/Cap |         Memory-Usage | GPU-Util  Compute M. |\n",
            "|                                         |                      |               MIG M. |\n",
            "|=========================================+======================+======================|\n",
            "|   0  Tesla T4                       Off | 00000000:00:04.0 Off |                    0 |\n",
            "| N/A   40C    P8               9W /  70W |      0MiB / 15360MiB |      0%      Default |\n",
            "|                                         |                      |                  N/A |\n",
            "+-----------------------------------------+----------------------+----------------------+\n",
            "                                                                                         \n",
            "+---------------------------------------------------------------------------------------+\n",
            "| Processes:                                                                            |\n",
            "|  GPU   GI   CI        PID   Type   Process name                            GPU Memory |\n",
            "|        ID   ID                                                             Usage      |\n",
            "|=======================================================================================|\n",
            "|  No running processes found                                                           |\n",
            "+---------------------------------------------------------------------------------------+\n"
          ]
        }
      ],
      "source": [
        "!nvidia-smi"
      ]
    },
    {
      "cell_type": "markdown",
      "source": [
        "# Análise de Variação Diária dos Preços de Ações"
      ],
      "metadata": {
        "id": "3Wdihv4oM_pO"
      }
    },
    {
      "cell_type": "code",
      "source": [
        "%%writefile variacao_diaria.cu\n",
        "#include <thrust/host_vector.h>\n",
        "#include <thrust/device_vector.h>\n",
        "#include <thrust/transform.h>\n",
        "#include <fstream>\n",
        "#include <iostream>\n",
        "#include <vector>\n",
        "#include <string>\n",
        "\n",
        "// Functor para calcular a diferença entre dois valores consecutivos\n",
        "struct diff_functor {\n",
        "    __host__ __device__\n",
        "    float operator()(const float& a, const float& b) const {\n",
        "        return b - a;  // Calcula (b - a), ou seja, (stocks[i+1] - stocks[i])\n",
        "    }\n",
        "};\n",
        "\n",
        "// Função para carregar os preços de ações do arquivo\n",
        "std::vector<float> load_stock_prices(const std::string& filename) {\n",
        "    std::vector<float> prices;\n",
        "    std::ifstream file(filename);\n",
        "    if (!file) {\n",
        "        std::cerr << \"Erro ao abrir o arquivo: \" << filename << std::endl;\n",
        "        return prices;\n",
        "    }\n",
        "\n",
        "    float price;\n",
        "    while (file >> price) {\n",
        "        prices.push_back(price);\n",
        "    }\n",
        "\n",
        "    return prices;\n",
        "}\n",
        "\n",
        "int main() {\n",
        "    // Carregar os preços de ações do arquivo \"stocks-google.txt\"\n",
        "    std::vector<float> stock_prices = load_stock_prices(\"/content/stocks-google.txt\");\n",
        "\n",
        "    if (stock_prices.empty()) {\n",
        "        std::cerr << \"Nenhum dado encontrado no arquivo.\" << std::endl;\n",
        "        return 1;\n",
        "    }\n",
        "\n",
        "    // Copiar os dados do host para o dispositivo\n",
        "    thrust::device_vector<float> stocks(stock_prices.begin(), stock_prices.end());\n",
        "\n",
        "    // Criar um vetor para armazenar as diferenças diárias (um elemento a menos)\n",
        "    thrust::device_vector<float> ganho_diario(stocks.size() - 1);\n",
        "\n",
        "    // Usar thrust::transform para calcular as diferenças\n",
        "    thrust::transform(stocks.begin(), stocks.end() - 1, stocks.begin() + 1, ganho_diario.begin(), diff_functor());\n",
        "\n",
        "    // Exibir o vetor de ganho_diario\n",
        "    std::cout << \"Diferenças diárias (ganho_diario): \";\n",
        "    for (int i = 0; i < ganho_diario.size(); i++) {\n",
        "        std::cout << ganho_diario[i] << \" \";\n",
        "    }\n",
        "    std::cout << std::endl;\n",
        "\n",
        "    return 0;\n",
        "}\n"
      ],
      "metadata": {
        "colab": {
          "base_uri": "https://localhost:8080/"
        },
        "id": "RAeRSG3pMfTE",
        "outputId": "888234cf-68e8-420e-a990-70e985bade4f"
      },
      "execution_count": 3,
      "outputs": [
        {
          "output_type": "stream",
          "name": "stdout",
          "text": [
            "Writing variacao_diaria.cu\n"
          ]
        }
      ]
    },
    {
      "cell_type": "code",
      "source": [
        "!nvcc -arch=sm_70 -std=c++14 variacao_diaria.cu -o variacao_diaria"
      ],
      "metadata": {
        "id": "UspnHg08MvcD"
      },
      "execution_count": 4,
      "outputs": []
    },
    {
      "cell_type": "code",
      "source": [
        "!./variacao_diaria"
      ],
      "metadata": {
        "colab": {
          "base_uri": "https://localhost:8080/"
        },
        "id": "_0ov9xx8OQ-s",
        "outputId": "7062c618-90c8-44d6-ad1f-79a168d0a50e"
      },
      "execution_count": 5,
      "outputs": [
        {
          "output_type": "stream",
          "name": "stdout",
          "text": [
            "Diferenças diárias (ganho_diario): 5.26001 1.5 -3.25 6.25 3.5 3.25 -1.75 5 -2.5 5.5 -5.25 6.25 1.5 2.5 2.25 -5.25 -1.5 3.75 5.5 1.25 2.5 2.5 4.25 2.25 5.25 2.25 2.5 2.75 2.5 2.25 2.25 2.25 3.5 2.25 2.5 2.25 3.5 2.25 2.25 4.5 3.25 1.25 3.25 3.25 2.25 3.25 2.5 2.5 3.25 2.5 2.75 2.5 2.25 2.75 2.5 2.5 2.25 3.5 2.25 2.5 2.25 3.5 3.25 2.5 3.25 2.75 2.75 3.25 3.25 2.75 3.5 2.5 2.5 2.25 3.25 2.25 4.25 2.5 3.75 3.25 2.25 3.25 2.5 3.25 3.25 2.5 3.75 2.25 2.5 2.5 3.25 2.25 3.5 3.25 2.75 3.75 3.75 2.5 3.25 3.5 2.25 3.5 3.25 3.5 2.75 3.5 3.5 2.5 3.25 3.25 3.5 2.5 3.25 2.5 3.25 3.5 2.5 3.25 2.25 3.25 3.25 3.25 2.75 2.5 3.5 2.75 2.75 2.75 2.75 3.75 3.25 3.5 2.5 3.25 3.5 2.75 2.5 3.25 3.25 2.5 3.75 2.25 3.5 3.25 3.5 2.75 3.5 3.5 3.25 2.25 3.25 3.25 3.25 3.25 2.5 3.75 3.25 3.5 3.5 2.5 3.25 3.25 3.25 3.25 2.5 3.25 3.5 3.25 3.5 3.25 2.75 3.5 3.25 3.25 3.25 3.25 2.5 3.25 2.25 3.5 3.5 3.25 3.25 3.5 3.25 2.75 3.75 3.25 3.5 3.25 2.75 3.5 3.25 3.5 2.25 3.25 3.25 3.25 3.25 3.25 3.25 3.25 3.25 3.25 3.25 3.25 3.25 3.25 3.25 3.5 3.25 3.25 3.25 3.25 3.5 3.25 2.25 3.25 3.75 3.25 3.25 3.25 3.25 3.25 3.25 3.25 3.25 3.25 3.25 3.25 2.25 3.25 3.25 3.25 3.25 3.25 3.25 3.25 3.25 3.25 3.25 3.5 3.25 3.25 3.25 3.25 3.5 3.25 3.25 3.25 3.25 3.25 3.25 3.25 3.25 3.5 3.25 3.25 3.25 3.25 3.25 3.25 3.25 3.25 3.25 3.25 3.25 3.25 3.25 3.25 3.25 3.25 3.25 3.25 3.25 3.25 3.25 3.25 3.25 3.25 3.25 3.25 3.25 3.25 3.25 3.25 3.25 2.25 3.25 3.25 3.25 3.25 3.25 3.25 3.25 3.25 3.25 3.25 3.25 3.25 3.25 3.25 3.25 3.25 3.25 3.25 3.25 3.25 3.25 3.25 3.25 3.25 3.25 3.25 3.25 3.25 3.25 3.25 3.25 3.25 3.25 3.25 3.25 3.25 3.25 3.25 3.25 3.25 3.25 3.25 3.25 3.25 3.25 3.25 3.25 3.25 3.25 3.25 3.25 3.25 3.25 3.25 3.25 3.25 3.25 3.25 3.25 3.25 3.25 3.25 3.25 3.25 3.25 3.25 3.25 3.25 3.25 3.25 3.25 3.25 3.25 3.25 3.25 3.25 3.25 3.25 3.25 3.25 3.25 3.25 3.25 3.25 3.25 3.25 3.25 3.25 3.25 3.25 3.25 3.25 3.25 3.25 3.25 3.25 3.25 3.25 3.25 3.25 -1184.76 5.26001 1.5 -3.25 6.25 3.5 3.25 -1.75 5 -2.5 5.5 -5.25 6.25 1.5 2.5 2.25 -5.25 -1.5 3.75 5.5 1.25 2.5 2.5 4.25 2.25 5.25 2.25 2.5 2.75 2.5 2.25 2.25 2.25 3.5 2.25 2.5 2.25 3.5 2.25 2.25 4.5 3.25 1.25 3.25 3.25 2.25 3.25 2.5 2.5 3.25 2.5 2.75 2.5 2.25 2.75 2.5 2.5 2.25 3.5 2.25 2.5 2.25 3.5 3.25 2.5 3.25 2.75 2.75 3.25 3.25 2.75 3.5 2.5 2.5 2.25 3.25 2.25 4.25 2.5 3.75 3.25 2.25 3.25 2.5 3.25 3.25 2.5 3.75 2.25 2.5 2.5 3.25 2.25 3.5 3.25 2.75 3.75 3.75 2.5 3.25 3.5 2.25 3.5 3.25 3.5 2.75 3.5 3.5 2.5 3.25 3.25 3.5 2.5 3.25 2.5 3.25 3.5 2.5 3.25 2.25 3.25 3.25 3.25 2.75 2.5 3.5 2.75 2.75 2.75 2.75 3.75 3.25 3.5 2.5 3.25 3.5 2.75 2.5 3.25 3.25 2.5 3.75 2.25 3.5 3.25 3.5 2.75 3.5 3.5 3.25 2.25 3.25 3.25 3.25 3.25 2.5 3.75 3.25 3.5 3.5 2.5 3.25 3.25 3.25 3.25 2.5 3.25 3.5 3.25 3.5 3.25 2.75 3.5 3.25 3.25 3.25 3.25 2.5 3.25 2.25 3.5 3.5 3.25 3.25 3.5 3.25 2.75 3.75 3.25 3.5 3.25 2.75 3.5 3.25 3.5 2.25 3.25 3.25 3.25 3.25 3.25 3.25 3.25 3.25 3.25 3.25 3.25 3.25 3.25 3.25 3.5 3.25 3.25 3.25 3.25 3.5 3.25 2.25 3.25 3.75 3.25 3.25 3.25 3.25 3.25 3.25 3.25 3.25 3.25 3.25 3.25 2.25 3.25 3.25 3.25 3.25 3.25 3.25 3.25 3.25 3.25 3.25 3.5 3.25 3.25 3.25 3.25 3.5 3.25 3.25 3.25 3.25 3.25 3.25 3.25 3.25 3.5 3.25 3.25 3.25 3.25 3.25 3.25 3.25 3.25 3.25 3.25 3.25 3.25 3.25 3.25 3.25 3.25 3.25 3.25 3.25 3.25 3.25 3.25 3.25 3.25 3.25 3.25 3.25 3.25 3.25 3.25 3.25 2.25 3.25 3.25 3.25 3.25 3.25 3.25 3.25 3.25 3.25 3.25 3.25 3.25 3.25 3.25 3.25 3.25 3.25 3.25 3.25 3.25 3.25 3.25 3.25 3.25 3.25 3.25 3.25 3.25 3.25 3.25 3.25 3.25 3.25 3.25 3.25 3.25 3.25 3.25 3.25 3.25 3.25 3.25 3.25 3.25 3.25 3.25 3.25 3.25 3.25 3.25 3.25 3.25 3.25 3.25 3.25 3.25 3.25 3.25 3.25 3.25 3.25 3.25 3.25 3.25 3.25 3.25 3.25 3.25 3.25 3.25 3.25 3.25 3.25 3.25 3.25 3.25 3.25 3.25 3.25 3.25 3.25 3.25 3.25 3.25 3.25 3.25 3.25 3.25 3.25 3.25 3.25 3.25 3.25 3.25 3.25 3.25 3.25 3.25 3.25 3.25 -1184.76 5.26001 1.5 -3.25 6.25 3.5 3.25 -1.75 5 -2.5 5.5 -5.25 6.25 1.5 2.5 2.25 -5.25 -1.5 3.75 5.5 1.25 2.5 2.5 4.25 2.25 5.25 2.25 2.5 2.75 2.5 2.25 2.25 2.25 3.5 2.25 2.5 2.25 3.5 2.25 2.25 4.5 3.25 1.25 3.25 3.25 2.25 3.25 2.5 2.5 3.25 2.5 2.75 2.5 2.25 2.75 2.5 2.5 2.25 3.5 2.25 2.5 2.25 3.5 3.25 2.5 3.25 2.75 2.75 3.25 3.25 2.75 3.5 2.5 2.5 2.25 3.25 2.25 4.25 2.5 3.75 3.25 2.25 3.25 2.5 3.25 3.25 2.5 3.75 2.25 2.5 2.5 3.25 2.25 3.5 3.25 2.75 3.75 3.75 2.5 3.25 3.5 2.25 3.5 3.25 3.5 2.75 3.5 3.5 2.5 3.25 3.25 3.5 2.5 3.25 2.5 3.25 3.5 2.5 3.25 2.25 3.25 3.25 3.25 2.75 2.5 3.5 2.75 2.75 2.75 2.75 3.75 3.25 3.5 2.5 3.25 3.5 2.75 2.5 3.25 3.25 2.5 3.75 2.25 3.5 3.25 3.5 2.75 3.5 3.5 3.25 2.25 3.25 3.25 3.25 3.25 2.5 3.75 3.25 3.5 3.5 2.5 3.25 3.25 3.25 3.25 2.5 3.25 3.5 3.25 3.5 3.25 2.75 3.5 3.25 3.25 3.25 3.25 2.5 3.25 2.25 3.5 3.5 3.25 3.25 3.5 3.25 2.75 3.75 3.25 3.5 3.25 2.75 3.5 3.25 3.5 2.25 3.25 3.25 3.25 3.25 3.25 3.25 3.25 3.25 3.25 3.25 3.25 3.25 3.25 3.25 3.5 3.25 3.25 3.25 3.25 3.5 3.25 2.25 3.25 3.75 3.25 3.25 3.25 3.25 3.25 3.25 3.25 3.25 3.25 3.25 3.25 2.25 3.25 3.25 3.25 3.25 3.25 3.25 3.25 3.25 3.25 3.25 3.5 3.25 3.25 3.25 3.25 3.5 3.25 3.25 3.25 3.25 3.25 3.25 3.25 3.25 3.5 3.25 3.25 3.25 3.25 3.25 3.25 3.25 3.25 3.25 3.25 3.25 3.25 3.25 3.25 3.25 3.25 3.25 3.25 3.25 3.25 3.25 3.25 3.25 3.25 3.25 3.25 3.25 3.25 3.25 3.25 3.25 2.25 3.25 3.25 3.25 3.25 3.25 3.25 3.25 3.25 3.25 3.25 3.25 3.25 3.25 3.25 3.25 3.25 3.25 3.25 3.25 3.25 3.25 3.25 3.25 3.25 3.25 3.25 3.25 3.25 3.25 3.25 3.25 3.25 3.25 3.25 3.25 3.25 3.25 3.25 3.25 3.25 3.25 3.25 3.25 3.25 3.25 3.25 3.25 3.25 3.25 3.25 3.25 3.25 3.25 3.25 3.25 3.25 3.25 3.25 3.25 3.25 3.25 3.25 3.25 3.25 3.25 3.25 3.25 3.25 3.25 3.25 3.25 3.25 3.25 3.25 3.25 3.25 3.25 3.25 3.25 3.25 3.25 3.25 3.25 3.25 3.25 3.25 3.25 3.25 3.25 3.25 3.25 3.25 3.25 3.25 3.25 3.25 3.25 3.25 3.25 3.25 -1184.76 5.26001 1.5 -3.25 6.25 3.5 3.25 -1.75 5 -2.5 5.5 -5.25 6.25 1.5 2.5 2.25 -5.25 -1.5 3.75 5.5 1.25 2.5 2.5 4.25 2.25 5.25 2.25 2.5 2.75 2.5 2.25 2.25 2.25 3.5 2.25 2.5 2.25 3.5 2.25 2.25 4.5 3.25 1.25 3.25 3.25 2.25 3.25 2.5 2.5 3.25 2.5 2.75 2.5 2.25 2.75 2.5 2.5 2.25 3.5 2.25 2.5 2.25 3.5 3.25 2.5 3.25 2.75 2.75 3.25 3.25 2.75 3.5 2.5 2.5 2.25 3.25 2.25 4.25 2.5 3.75 3.25 2.25 3.25 2.5 3.25 3.25 2.5 3.75 2.25 2.5 2.5 3.25 2.25 3.5 3.25 2.75 3.75 3.75 2.5 3.25 3.5 2.25 3.5 3.25 3.5 2.75 3.5 3.5 2.5 3.25 3.25 3.5 2.5 3.25 2.5 3.25 3.5 2.5 3.25 2.25 3.25 3.25 3.25 2.75 2.5 3.5 2.75 2.75 2.75 2.75 3.75 3.25 3.5 2.5 3.25 3.5 2.75 2.5 3.25 3.25 2.5 3.75 2.25 3.5 3.25 3.5 2.75 3.5 3.5 3.25 2.25 3.25 3.25 3.25 3.25 2.5 3.75 3.25 3.5 3.5 2.5 3.25 3.25 3.25 3.25 2.5 3.25 3.5 3.25 3.5 3.25 2.75 3.5 3.25 3.25 3.25 3.25 2.5 3.25 2.25 3.5 3.5 3.25 3.25 3.5 3.25 2.75 3.75 3.25 3.5 3.25 2.75 3.5 3.25 3.5 2.25 3.25 3.25 3.25 3.25 3.25 3.25 3.25 3.25 3.25 3.25 3.25 3.25 3.25 3.25 3.5 3.25 3.25 3.25 3.25 3.5 3.25 2.25 3.25 3.75 3.25 3.25 3.25 3.25 3.25 3.25 3.25 3.25 3.25 3.25 3.25 2.25 3.25 3.25 3.25 3.25 3.25 3.25 3.25 3.25 3.25 3.25 3.5 3.25 3.25 3.25 3.25 3.5 3.25 3.25 3.25 3.25 3.25 3.25 3.25 3.25 3.5 3.25 3.25 3.25 3.25 3.25 3.25 3.25 3.25 3.25 3.25 3.25 3.25 3.25 3.25 3.25 3.25 3.25 3.25 3.25 3.25 3.25 3.25 3.25 3.25 3.25 3.25 3.25 3.25 3.25 3.25 3.25 2.25 3.25 3.25 3.25 3.25 3.25 3.25 3.25 3.25 3.25 3.25 3.25 3.25 3.25 3.25 3.25 3.25 3.25 3.25 3.25 3.25 3.25 3.25 3.25 3.25 3.25 3.25 3.25 3.25 3.25 3.25 3.25 3.25 3.25 3.25 3.25 3.25 3.25 3.25 3.25 3.25 3.25 3.25 3.25 3.25 3.25 3.25 3.25 3.25 3.25 3.25 3.25 3.25 3.25 3.25 3.25 3.25 3.25 3.25 3.25 3.25 3.25 3.25 3.25 3.25 3.25 3.25 3.25 3.25 3.25 3.25 3.25 3.25 3.25 3.25 3.25 3.25 3.25 3.25 3.25 3.25 3.25 3.25 3.25 3.25 3.25 3.25 3.25 3.25 3.25 3.25 3.25 3.25 3.25 3.25 3.25 3.25 3.25 3.25 3.25 3.25 -1184.76 5.26001 1.5 -3.25 6.25 3.5 3.25 -1.75 5 -2.5 5.5 -5.25 6.25 1.5 2.5 2.25 -5.25 -1.5 3.75 5.5 1.25 2.5 2.5 4.25 2.25 5.25 2.25 2.5 2.75 2.5 2.25 2.25 2.25 3.5 2.25 2.5 2.25 3.5 2.25 2.25 4.5 3.25 1.25 3.25 3.25 2.25 3.25 2.5 2.5 3.25 2.5 2.75 2.5 2.25 2.75 2.5 2.5 2.25 3.5 2.25 2.5 2.25 3.5 3.25 2.5 3.25 2.75 2.75 3.25 3.25 2.75 3.5 2.5 2.5 2.25 3.25 2.25 4.25 2.5 3.75 3.25 2.25 3.25 2.5 3.25 3.25 2.5 3.75 2.25 2.5 2.5 3.25 2.25 3.5 3.25 2.75 3.75 3.75 2.5 3.25 3.5 2.25 3.5 3.25 3.5 2.75 3.5 3.5 2.5 3.25 3.25 3.5 2.5 3.25 2.5 3.25 3.5 2.5 3.25 2.25 3.25 3.25 3.25 2.75 2.5 3.5 2.75 2.75 2.75 2.75 3.75 3.25 3.5 2.5 3.25 3.5 2.75 2.5 3.25 3.25 2.5 3.75 2.25 3.5 3.25 3.5 2.75 3.5 3.5 3.25 2.25 3.25 3.25 3.25 3.25 2.5 3.75 3.25 3.5 3.5 2.5 3.25 3.25 3.25 3.25 2.5 3.25 3.5 3.25 3.5 3.25 2.75 3.5 3.25 3.25 3.25 3.25 2.5 3.25 2.25 3.5 3.5 3.25 3.25 3.5 3.25 2.75 3.75 3.25 3.5 3.25 2.75 3.5 3.25 3.5 2.25 3.25 3.25 3.25 3.25 3.25 3.25 3.25 3.25 3.25 3.25 3.25 3.25 3.25 3.25 3.5 3.25 3.25 3.25 3.25 3.5 3.25 2.25 3.25 3.75 3.25 3.25 3.25 3.25 3.25 3.25 3.25 3.25 3.25 3.25 3.25 2.25 3.25 3.25 3.25 3.25 3.25 3.25 3.25 3.25 3.25 3.25 3.5 3.25 3.25 3.25 3.25 3.5 3.25 3.25 3.25 3.25 3.25 3.25 3.25 3.25 3.5 3.25 3.25 3.25 3.25 3.25 3.25 3.25 3.25 3.25 3.25 3.25 3.25 3.25 3.25 3.25 3.25 3.25 3.25 3.25 3.25 3.25 3.25 3.25 3.25 3.25 3.25 3.25 3.25 3.25 3.25 3.25 2.25 3.25 3.25 3.25 3.25 3.25 3.25 3.25 3.25 3.25 3.25 3.25 3.25 3.25 3.25 3.25 3.25 3.25 3.25 3.25 3.25 3.25 3.25 3.25 3.25 3.25 3.25 3.25 3.25 3.25 3.25 3.25 3.25 3.25 3.25 3.25 3.25 3.25 3.25 3.25 3.25 3.25 3.25 3.25 3.25 3.25 3.25 3.25 3.25 3.25 3.25 3.25 3.25 3.25 3.25 3.25 3.25 3.25 3.25 3.25 3.25 3.25 3.25 3.25 3.25 3.25 3.25 3.25 3.25 3.25 3.25 3.25 3.25 3.25 3.25 3.25 3.25 3.25 3.25 3.25 3.25 3.25 3.25 3.25 3.25 3.25 3.25 3.25 3.25 3.25 3.25 3.25 3.25 3.25 3.25 3.25 3.25 3.25 3.25 3.25 3.25 -1184.76 5.26001 1.5 -3.25 6.25 3.5 3.25 -1.75 5 -2.5 5.5 -5.25 6.25 1.5 2.5 2.25 -5.25 -1.5 3.75 5.5 1.25 2.5 2.5 4.25 2.25 5.25 2.25 2.5 2.75 2.5 2.25 2.25 2.25 3.5 2.25 2.5 2.25 3.5 2.25 2.25 4.5 3.25 1.25 3.25 3.25 2.25 3.25 2.5 2.5 3.25 2.5 2.75 2.5 2.25 2.75 2.5 2.5 2.25 3.5 2.25 2.5 2.25 3.5 3.25 2.5 3.25 2.75 2.75 3.25 3.25 2.75 3.5 2.5 2.5 2.25 3.25 2.25 4.25 2.5 3.75 3.25 2.25 3.25 2.5 3.25 3.25 2.5 3.75 2.25 2.5 2.5 3.25 2.25 3.5 3.25 2.75 3.75 3.75 2.5 3.25 3.5 2.25 3.5 3.25 3.5 2.75 3.5 3.5 2.5 3.25 3.25 3.5 2.5 3.25 2.5 3.25 3.5 2.5 3.25 2.25 3.25 3.25 3.25 2.75 2.5 3.5 2.75 2.75 2.75 2.75 3.75 3.25 3.5 2.5 3.25 3.5 2.75 2.5 3.25 3.25 2.5 3.75 2.25 3.5 3.25 3.5 2.75 3.5 3.5 3.25 2.25 3.25 3.25 3.25 3.25 2.5 3.75 3.25 3.5 3.5 2.5 3.25 3.25 3.25 3.25 2.5 3.25 3.5 3.25 3.5 3.25 2.75 3.5 3.25 3.25 3.25 3.25 2.5 3.25 2.25 3.5 3.5 3.25 3.25 3.5 3.25 2.75 3.75 3.25 3.5 3.25 2.75 3.5 3.25 3.5 2.25 3.25 3.25 3.25 3.25 3.25 3.25 3.25 3.25 3.25 3.25 3.25 3.25 3.25 3.25 3.5 3.25 3.25 3.25 3.25 3.5 3.25 2.25 3.25 3.75 3.25 3.25 3.25 3.25 3.25 3.25 3.25 3.25 3.25 3.25 3.25 2.25 3.25 3.25 3.25 3.25 3.25 3.25 3.25 3.25 3.25 3.25 3.5 3.25 3.25 3.25 3.25 3.5 3.25 3.25 3.25 3.25 3.25 3.25 3.25 3.25 3.5 3.25 3.25 3.25 3.25 3.25 3.25 3.25 3.25 3.25 3.25 3.25 3.25 3.25 3.25 3.25 3.25 3.25 3.25 3.25 3.25 3.25 3.25 3.25 3.25 3.25 3.25 3.25 3.25 3.25 3.25 3.25 2.25 3.25 3.25 3.25 3.25 3.25 3.25 3.25 3.25 3.25 3.25 3.25 3.25 3.25 3.25 3.25 3.25 3.25 3.25 3.25 3.25 3.25 3.25 3.25 3.25 3.25 3.25 3.25 3.25 3.25 3.25 3.25 3.25 3.25 3.25 3.25 3.25 3.25 3.25 3.25 3.25 3.25 3.25 3.25 3.25 3.25 3.25 3.25 3.25 3.25 3.25 3.25 3.25 3.25 3.25 3.25 3.25 3.25 3.25 3.25 3.25 3.25 3.25 3.25 3.25 3.25 3.25 3.25 3.25 3.25 3.25 3.25 3.25 3.25 3.25 3.25 3.25 3.25 3.25 3.25 3.25 3.25 3.25 3.25 3.25 3.25 3.25 3.25 3.25 3.25 3.25 3.25 3.25 3.25 3.25 3.25 3.25 3.25 3.25 3.25 3.25 -1184.76 5.26001 1.5 -3.25 6.25 3.5 3.25 -1.75 5 -2.5 5.5 -5.25 6.25 1.5 2.5 2.25 -5.25 -1.5 3.75 5.5 1.25 2.5 2.5 4.25 2.25 5.25 2.25 2.5 2.75 2.5 2.25 2.25 2.25 3.5 2.25 2.5 2.25 3.5 2.25 2.25 4.5 3.25 1.25 3.25 3.25 2.25 3.25 2.5 2.5 3.25 2.5 2.75 2.5 2.25 2.75 2.5 2.5 2.25 3.5 2.25 2.5 2.25 3.5 3.25 2.5 3.25 2.75 2.75 3.25 3.25 2.75 3.5 2.5 2.5 2.25 3.25 2.25 4.25 2.5 3.75 3.25 2.25 3.25 2.5 3.25 3.25 2.5 3.75 2.25 2.5 2.5 3.25 2.25 3.5 3.25 2.75 3.75 3.75 2.5 3.25 3.5 2.25 3.5 3.25 3.5 2.75 3.5 3.5 2.5 3.25 3.25 3.5 2.5 3.25 2.5 3.25 3.5 2.5 3.25 2.25 3.25 3.25 3.25 2.75 2.5 3.5 2.75 2.75 2.75 2.75 3.75 3.25 3.5 2.5 3.25 3.5 2.75 2.5 3.25 3.25 2.5 3.75 2.25 3.5 3.25 3.5 2.75 3.5 3.5 3.25 2.25 3.25 3.25 3.25 3.25 2.5 3.75 3.25 3.5 3.5 2.5 3.25 3.25 3.25 3.25 2.5 3.25 3.5 3.25 3.5 3.25 2.75 3.5 3.25 3.25 3.25 3.25 2.5 3.25 2.25 3.5 3.5 3.25 3.25 3.5 3.25 2.75 3.75 3.25 3.5 3.25 2.75 3.5 3.25 3.5 2.25 3.25 3.25 3.25 3.25 3.25 3.25 3.25 3.25 3.25 3.25 3.25 3.25 3.25 3.25 3.5 3.25 3.25 3.25 3.25 3.5 3.25 2.25 3.25 3.75 3.25 3.25 3.25 3.25 3.25 3.25 3.25 3.25 3.25 3.25 3.25 2.25 3.25 3.25 3.25 3.25 3.25 3.25 3.25 3.25 3.25 3.25 3.5 3.25 3.25 3.25 3.25 3.5 3.25 3.25 3.25 3.25 3.25 3.25 3.25 3.25 3.5 3.25 3.25 3.25 3.25 3.25 3.25 3.25 3.25 3.25 3.25 3.25 3.25 3.25 3.25 3.25 3.25 3.25 3.25 3.25 3.25 3.25 3.25 3.25 3.25 3.25 3.25 3.25 3.25 3.25 3.25 3.25 2.25 3.25 3.25 3.25 3.25 3.25 3.25 3.25 3.25 3.25 3.25 3.25 3.25 3.25 3.25 3.25 3.25 3.25 3.25 3.25 3.25 3.25 3.25 3.25 3.25 3.25 3.25 3.25 3.25 3.25 3.25 3.25 3.25 3.25 3.25 3.25 3.25 3.25 3.25 3.25 3.25 3.25 3.25 3.25 3.25 3.25 3.25 3.25 3.25 3.25 3.25 3.25 3.25 3.25 3.25 3.25 3.25 3.25 3.25 3.25 3.25 3.25 3.25 3.25 3.25 3.25 3.25 3.25 3.25 3.25 3.25 3.25 3.25 3.25 3.25 3.25 3.25 3.25 3.25 3.25 3.25 3.25 3.25 3.25 3.25 3.25 3.25 3.25 3.25 3.25 3.25 3.25 3.25 3.25 3.25 3.25 3.25 3.25 3.25 3.25 3.25 -1184.76 5.26001 1.5 -3.25 6.25 3.5 3.25 -1.75 5 -2.5 5.5 -5.25 6.25 1.5 2.5 2.25 -5.25 -1.5 3.75 5.5 1.25 2.5 2.5 4.25 2.25 5.25 2.25 2.5 2.75 2.5 2.25 2.25 2.25 3.5 2.25 2.5 2.25 3.5 2.25 2.25 4.5 3.25 1.25 3.25 3.25 2.25 3.25 2.5 2.5 3.25 2.5 2.75 2.5 2.25 2.75 2.5 2.5 2.25 3.5 2.25 2.5 2.25 3.5 3.25 2.5 3.25 2.75 2.75 3.25 3.25 2.75 3.5 2.5 2.5 2.25 3.25 2.25 4.25 2.5 3.75 3.25 2.25 3.25 2.5 3.25 3.25 2.5 3.75 2.25 2.5 2.5 3.25 2.25 3.5 3.25 2.75 3.75 3.75 2.5 3.25 3.5 2.25 3.5 3.25 3.5 2.75 3.5 3.5 2.5 3.25 3.25 3.5 2.5 3.25 2.5 3.25 3.5 2.5 3.25 2.25 3.25 3.25 3.25 2.75 2.5 3.5 2.75 2.75 2.75 2.75 3.75 3.25 3.5 2.5 3.25 3.5 2.75 2.5 3.25 3.25 2.5 3.75 2.25 3.5 3.25 3.5 2.75 3.5 3.5 3.25 2.25 3.25 3.25 3.25 3.25 2.5 3.75 3.25 3.5 3.5 2.5 3.25 3.25 3.25 3.25 2.5 3.25 3.5 3.25 3.5 3.25 2.75 3.5 3.25 3.25 3.25 3.25 2.5 3.25 2.25 3.5 3.5 3.25 3.25 3.5 3.25 2.75 3.75 3.25 3.5 3.25 2.75 3.5 3.25 3.5 2.25 3.25 3.25 3.25 3.25 3.25 3.25 3.25 3.25 3.25 3.25 3.25 3.25 3.25 3.25 3.5 3.25 3.25 3.25 3.25 3.5 3.25 2.25 3.25 3.75 3.25 3.25 3.25 3.25 3.25 3.25 3.25 3.25 3.25 3.25 3.25 2.25 3.25 3.25 3.25 3.25 3.25 3.25 3.25 3.25 3.25 3.25 3.5 3.25 3.25 3.25 3.25 3.5 3.25 3.25 3.25 3.25 3.25 3.25 3.25 3.25 3.5 3.25 3.25 3.25 3.25 3.25 3.25 3.25 3.25 3.25 3.25 3.25 3.25 3.25 3.25 3.25 3.25 3.25 3.25 3.25 3.25 3.25 3.25 3.25 3.25 3.25 3.25 3.25 3.25 3.25 3.25 3.25 2.25 3.25 3.25 3.25 3.25 3.25 3.25 3.25 3.25 3.25 3.25 3.25 3.25 3.25 3.25 3.25 3.25 3.25 3.25 3.25 3.25 3.25 3.25 3.25 3.25 3.25 3.25 3.25 3.25 3.25 3.25 3.25 3.25 3.25 3.25 3.25 3.25 3.25 3.25 3.25 3.25 3.25 3.25 3.25 3.25 3.25 3.25 3.25 3.25 3.25 3.25 3.25 3.25 3.25 3.25 3.25 3.25 3.25 3.25 3.25 3.25 3.25 3.25 3.25 3.25 3.25 3.25 3.25 3.25 3.25 3.25 3.25 3.25 3.25 3.25 3.25 3.25 3.25 3.25 3.25 3.25 3.25 3.25 3.25 3.25 3.25 3.25 3.25 3.25 3.25 3.25 3.25 3.25 3.25 3.25 3.25 3.25 3.25 3.25 3.25 3.25 \n"
          ]
        }
      ]
    },
    {
      "cell_type": "markdown",
      "source": [
        "# Contagem de Dias com Aumento no Preço das Ações"
      ],
      "metadata": {
        "id": "US_kpHvaOeZf"
      }
    },
    {
      "cell_type": "code",
      "source": [
        "%%writefile verifica_positivo.cu\n",
        "#include <thrust/host_vector.h>\n",
        "#include <thrust/device_vector.h>\n",
        "#include <thrust/transform.h>\n",
        "#include <thrust/count.h>\n",
        "#include <iostream>\n",
        "#include <fstream>\n",
        "#include <vector>\n",
        "#include <string>\n",
        "\n",
        "// Functor para calcular a diferença entre dois valores consecutivos\n",
        "struct diff_functor {\n",
        "    __host__ __device__\n",
        "    float operator()(const float& a, const float& b) const {\n",
        "        return b - a;  // Calcula (b - a), ou seja, (stocks[i+1] - stocks[i])\n",
        "    }\n",
        "};\n",
        "\n",
        "// Functor para verificar se o valor é positivo\n",
        "struct is_positive {\n",
        "    __host__ __device__\n",
        "    bool operator()(const float& x) const {\n",
        "        return x > 0;  // Retorna true se o valor for positivo\n",
        "    }\n",
        "};\n",
        "\n",
        "// Função para carregar os preços de ações do arquivo\n",
        "std::vector<float> load_stock_prices(const std::string& filename) {\n",
        "    std::vector<float> prices;\n",
        "    std::ifstream file(filename);\n",
        "    if (!file) {\n",
        "        std::cerr << \"Erro ao abrir o arquivo: \" << filename << std::endl;\n",
        "        return prices;\n",
        "    }\n",
        "\n",
        "    float price;\n",
        "    while (file >> price) {\n",
        "        prices.push_back(price);\n",
        "    }\n",
        "\n",
        "    return prices;\n",
        "}\n",
        "\n",
        "int main() {\n",
        "    // Carregar os preços de ações do arquivo \"stocks-google.txt\"\n",
        "    std::vector<float> stock_prices = load_stock_prices(\"/content/stocks-google.txt\");\n",
        "\n",
        "    if (stock_prices.empty()) {\n",
        "        std::cerr << \"Nenhum dado encontrado no arquivo.\" << std::endl;\n",
        "        return 1;\n",
        "    }\n",
        "\n",
        "    // Copiar os dados do host para o dispositivo\n",
        "    thrust::device_vector<float> stocks(stock_prices.begin(), stock_prices.end());\n",
        "\n",
        "    // Criar um vetor para armazenar as diferenças diárias (um elemento a menos)\n",
        "    thrust::device_vector<float> ganho_diario(stocks.size() - 1);\n",
        "\n",
        "    // Usar thrust::transform para calcular as diferenças\n",
        "    thrust::transform(stocks.begin(), stocks.end() - 1, stocks.begin() + 1, ganho_diario.begin(), diff_functor());\n",
        "\n",
        "    // Contar quantos dias o preço das ações subiu\n",
        "    int dias_com_aumento = thrust::count_if(ganho_diario.begin(), ganho_diario.end(), is_positive());\n",
        "\n",
        "    std::cout << \"Número de dias com aumento no preço das ações: \" << dias_com_aumento << std::endl;\n",
        "\n",
        "    return 0;\n",
        "}\n"
      ],
      "metadata": {
        "colab": {
          "base_uri": "https://localhost:8080/"
        },
        "id": "DVcWvsHaOk1j",
        "outputId": "b09b483b-b12f-4009-d633-94e99d53eba9"
      },
      "execution_count": 9,
      "outputs": [
        {
          "output_type": "stream",
          "name": "stdout",
          "text": [
            "Overwriting verifica_positivo.cu\n"
          ]
        }
      ]
    },
    {
      "cell_type": "code",
      "source": [
        "!nvcc -arch=sm_70 -std=c++14 verifica_positivo.cu -o verifica_positivo"
      ],
      "metadata": {
        "id": "gEhblVrkPa_W"
      },
      "execution_count": 10,
      "outputs": []
    },
    {
      "cell_type": "code",
      "source": [
        "!./verifica_positivo"
      ],
      "metadata": {
        "colab": {
          "base_uri": "https://localhost:8080/"
        },
        "id": "a-XsanefPbGX",
        "outputId": "07a5bc9c-2443-4839-b35d-d93781cff821"
      },
      "execution_count": 11,
      "outputs": [
        {
          "output_type": "stream",
          "name": "stdout",
          "text": [
            "Número de dias com aumento no preço das ações: 3056\n"
          ]
        }
      ]
    },
    {
      "cell_type": "code",
      "source": [
        "%%writefile variancia_com_iteradores.cu\n",
        "#include <thrust/host_vector.h>\n",
        "#include <thrust/device_vector.h>\n",
        "#include <thrust/transform.h>\n",
        "#include <thrust/reduce.h>\n",
        "#include <thrust/iterator/constant_iterator.h>\n",
        "#include <iostream>\n",
        "#include <fstream>\n",
        "#include <vector>\n",
        "#include <string>\n",
        "#include <chrono>  // Para medir tempo na CPU\n",
        "#include <cuda_runtime.h>  // Para medir tempo na GPU\n",
        "\n",
        "// Functor para calcular a variância (xi - μ)^2\n",
        "struct variance_functor {\n",
        "    __host__ __device__\n",
        "    float operator()(const float& x, const float& mean) const {\n",
        "        return (x - mean) * (x - mean);  // (xi - μ)^2\n",
        "    }\n",
        "};\n",
        "\n",
        "// Função para carregar os preços de ações do arquivo\n",
        "std::vector<float> load_stock_prices(const std::string& filename) {\n",
        "    std::vector<float> prices;\n",
        "    std::ifstream file(filename);\n",
        "    if (!file) {\n",
        "        std::cerr << \"Erro ao abrir o arquivo: \" << filename << std::endl;\n",
        "        return prices;\n",
        "    }\n",
        "\n",
        "    float price;\n",
        "    while (file >> price) {\n",
        "        prices.push_back(price);\n",
        "    }\n",
        "\n",
        "    return prices;\n",
        "}\n",
        "\n",
        "int main() {\n",
        "    // Medir tempo para carregar os preços de ações\n",
        "    auto start_load = std::chrono::high_resolution_clock::now();\n",
        "    std::vector<float> stock_prices = load_stock_prices(\"/content/stocks-google.txt\");\n",
        "    auto end_load = std::chrono::high_resolution_clock::now();\n",
        "    std::chrono::duration<double> elapsed_load = end_load - start_load;\n",
        "    std::cout << \"=====================\" << std::endl;\n",
        "    std::cout << \"Tempo para carregar preços de ações: \" << elapsed_load.count() << \" segundos\\n\";\n",
        "    std::cout << \"=====================\" << std::endl;\n",
        "\n",
        "    if (stock_prices.empty()) {\n",
        "        std::cerr << \"Nenhum dado encontrado no arquivo.\" << std::endl;\n",
        "        return 1;\n",
        "    }\n",
        "\n",
        "    // Copiar os dados do host para o dispositivo\n",
        "    thrust::device_vector<float> stocks(stock_prices.begin(), stock_prices.end());\n",
        "\n",
        "    // Calcular a média dos preços de ações\n",
        "    float soma_precos = thrust::reduce(stocks.begin(), stocks.end(), 0.0f, thrust::plus<float>());\n",
        "    float media = soma_precos / stocks.size();\n",
        "\n",
        "    // Inicializando eventos CUDA para medir tempo de GPU\n",
        "    cudaEvent_t start, stop;\n",
        "    cudaEventCreate(&start);\n",
        "    cudaEventCreate(&stop);\n",
        "\n",
        "    // Criar um vetor para armazenar a variância\n",
        "    thrust::device_vector<float> variancia(stocks.size());\n",
        "\n",
        "    // Usar iteradores dinâmicos para evitar a criação de um vetor de médias\n",
        "    cudaEventRecord(start);\n",
        "    thrust::transform(stocks.begin(), stocks.end(),\n",
        "                      thrust::constant_iterator<float>(media),\n",
        "                      variancia.begin(),\n",
        "                      variance_functor());\n",
        "    cudaEventRecord(stop);\n",
        "    cudaEventSynchronize(stop);\n",
        "    float ms_transform = 0;\n",
        "    cudaEventElapsedTime(&ms_transform, start, stop);\n",
        "    std::cout << \"Tempo para calcular a variância: \" << ms_transform << \" ms\\n\";\n",
        "    std::cout << \"=====================\" << std::endl;\n",
        "\n",
        "    // Somar a variância\n",
        "    float soma_variancia = thrust::reduce(variancia.begin(), variancia.end(), 0.0f, thrust::plus<float>());\n",
        "\n",
        "    // Calcular a variância final\n",
        "    float variancia_final = soma_variancia / stocks.size();\n",
        "    std::cout << \"Variância final: \" << variancia_final << std::endl;\n",
        "\n",
        "    // Liberar eventos CUDA\n",
        "    cudaEventDestroy(start);\n",
        "    cudaEventDestroy(stop);\n",
        "\n",
        "    return 0;\n",
        "}\n"
      ],
      "metadata": {
        "colab": {
          "base_uri": "https://localhost:8080/"
        },
        "id": "xp4JPuIYVY_z",
        "outputId": "021ff282-c2fd-4605-c4a3-861eea18e742"
      },
      "execution_count": 25,
      "outputs": [
        {
          "output_type": "stream",
          "name": "stdout",
          "text": [
            "Overwriting variancia_com_iteradores.cu\n"
          ]
        }
      ]
    },
    {
      "cell_type": "code",
      "source": [
        "!nvcc -arch=sm_70 -std=c++14 variancia_com_iteradores.cu -o variancia_com_iteradores"
      ],
      "metadata": {
        "id": "Zn04FsrnVeCC"
      },
      "execution_count": 26,
      "outputs": []
    },
    {
      "cell_type": "code",
      "source": [
        "!./variancia_com_iteradores"
      ],
      "metadata": {
        "colab": {
          "base_uri": "https://localhost:8080/"
        },
        "id": "SQnqUrBMVfz7",
        "outputId": "b42ce5e9-2edf-439f-d2df-aaba91dbb58f"
      },
      "execution_count": 27,
      "outputs": [
        {
          "output_type": "stream",
          "name": "stdout",
          "text": [
            "=====================\n",
            "Tempo para carregar preços de ações: 0.00135161 segundos\n",
            "=====================\n",
            "Tempo para calcular a variância: 0.028672 ms\n",
            "=====================\n",
            "Variância final: 123792\n"
          ]
        }
      ]
    },
    {
      "cell_type": "markdown",
      "source": [
        "# Cálculo do Aumento Médio nos Dias em que o Preço Subiu"
      ],
      "metadata": {
        "id": "O9c5voMBQUCB"
      }
    },
    {
      "cell_type": "code",
      "source": [
        "%%writefile aumento_medio.cu\n",
        "#include <thrust/host_vector.h>\n",
        "#include <thrust/device_vector.h>\n",
        "#include <thrust/transform.h>\n",
        "#include <thrust/count.h>\n",
        "#include <thrust/replace.h>\n",
        "#include <thrust/reduce.h>\n",
        "#include <iostream>\n",
        "#include <fstream>\n",
        "#include <vector>\n",
        "#include <string>\n",
        "#include <chrono>  // Para medir tempo na CPU\n",
        "#include <cuda_runtime.h>  // Para medir tempo na GPU\n",
        "\n",
        "// Functor para calcular a diferença entre dois valores consecutivos\n",
        "struct diff_functor {\n",
        "    __host__ __device__\n",
        "    float operator()(const float& a, const float& b) const {\n",
        "        return b - a;  // Calcula (b - a), ou seja, (stocks[i+1] - stocks[i])\n",
        "    }\n",
        "};\n",
        "\n",
        "// Functor para verificar se o valor é positivo\n",
        "struct is_positive {\n",
        "    __host__ __device__\n",
        "    bool operator()(const float& x) const {\n",
        "        return x > 0;  // Retorna true se o valor for positivo\n",
        "    }\n",
        "};\n",
        "\n",
        "// Função para carregar os preços de ações do arquivo\n",
        "std::vector<float> load_stock_prices(const std::string& filename) {\n",
        "    std::vector<float> prices;\n",
        "    std::ifstream file(filename);\n",
        "    if (!file) {\n",
        "        std::cerr << \"Erro ao abrir o arquivo: \" << filename << std::endl;\n",
        "        return prices;\n",
        "    }\n",
        "\n",
        "    float price;\n",
        "    while (file >> price) {\n",
        "        prices.push_back(price);\n",
        "    }\n",
        "\n",
        "    return prices;\n",
        "}\n",
        "\n",
        "int main() {\n",
        "    // Medir tempo para carregar os preços de ações\n",
        "    auto start_load = std::chrono::high_resolution_clock::now();\n",
        "    std::vector<float> stock_prices = load_stock_prices(\"/content/stocks-google.txt\");\n",
        "    auto end_load = std::chrono::high_resolution_clock::now();\n",
        "    std::chrono::duration<double> elapsed_load = end_load - start_load;\n",
        "    std::cout << \"=====================\" << std::endl;\n",
        "    std::cout << \"Tempo para carregar preços de ações: \" << elapsed_load.count() << \" segundos\\n\";\n",
        "    std::cout << \"=====================\" << std::endl;\n",
        "\n",
        "    if (stock_prices.empty()) {\n",
        "        std::cerr << \"Nenhum dado encontrado no arquivo.\" << std::endl;\n",
        "        return 1;\n",
        "    }\n",
        "\n",
        "    // Copiar os dados do host para o dispositivo\n",
        "    thrust::device_vector<float> stocks(stock_prices.begin(), stock_prices.end());\n",
        "\n",
        "    // Criar um vetor para armazenar as diferenças diárias (um elemento a menos)\n",
        "    thrust::device_vector<float> ganho_diario(stocks.size() - 1);\n",
        "\n",
        "    // Inicializando eventos CUDA para medir tempo de GPU\n",
        "    cudaEvent_t start, stop;\n",
        "    cudaEventCreate(&start);\n",
        "    cudaEventCreate(&stop);\n",
        "\n",
        "    // Usar thrust::transform para calcular as diferenças\n",
        "    cudaEventRecord(start);\n",
        "    thrust::transform(stocks.begin(), stocks.end() - 1, stocks.begin() + 1, ganho_diario.begin(), diff_functor());\n",
        "    cudaEventRecord(stop);\n",
        "    cudaEventSynchronize(stop);\n",
        "    float ms_transform = 0;\n",
        "    cudaEventElapsedTime(&ms_transform, start, stop);\n",
        "    std::cout << \"Tempo para calcular diferenças diárias: \" << ms_transform << \" ms\\n\";\n",
        "    std::cout << \"=====================\" << std::endl;\n",
        "\n",
        "    // Contar quantos dias o preço das ações subiu\n",
        "    cudaEventRecord(start);\n",
        "    int dias_com_aumento = thrust::count_if(ganho_diario.begin(), ganho_diario.end(), is_positive());\n",
        "    cudaEventRecord(stop);\n",
        "    cudaEventSynchronize(stop);\n",
        "    float ms_count = 0;\n",
        "    cudaEventElapsedTime(&ms_count, start, stop);\n",
        "    std::cout << \"Tempo para contar dias com aumento no preço: \" << ms_count << \" ms\\n\";\n",
        "    std::cout << \"=====================\" << std::endl;\n",
        "\n",
        "    // Substituir valores negativos por zero\n",
        "    cudaEventRecord(start);\n",
        "    thrust::replace_if(ganho_diario.begin(), ganho_diario.end(), thrust::placeholders::_1 <= 0, 0.0f);\n",
        "    cudaEventRecord(stop);\n",
        "    cudaEventSynchronize(stop);\n",
        "    float ms_replace = 0;\n",
        "    cudaEventElapsedTime(&ms_replace, start, stop);\n",
        "    std::cout << \"Tempo para substituir valores negativos: \" << ms_replace << \" ms\\n\";\n",
        "    std::cout << \"=====================\" << std::endl;\n",
        "\n",
        "    // Calcular a soma dos valores positivos\n",
        "    cudaEventRecord(start);\n",
        "    float soma_aumentos = thrust::reduce(ganho_diario.begin(), ganho_diario.end(), 0.0f, thrust::plus<float>());\n",
        "    cudaEventRecord(stop);\n",
        "    cudaEventSynchronize(stop);\n",
        "    float ms_reduce = 0;\n",
        "    cudaEventElapsedTime(&ms_reduce, start, stop);\n",
        "    std::cout << \"Tempo para calcular soma dos aumentos: \" << ms_reduce << \" ms\\n\";\n",
        "    std::cout << \"=====================\" << std::endl;\n",
        "\n",
        "    // Calcular a média dos aumentos\n",
        "    float media_aumento = soma_aumentos / dias_com_aumento;\n",
        "    std::cout << \"Número de dias com aumento no preço das ações: \" << dias_com_aumento << std::endl;\n",
        "    std::cout << \"Soma dos aumentos: \" << soma_aumentos << std::endl;\n",
        "    std::cout << \"Média dos aumentos: \" << media_aumento << std::endl;\n",
        "    std::cout << \"=====================\" << std::endl;\n",
        "\n",
        "    // Liberar eventos CUDA\n",
        "    cudaEventDestroy(start);\n",
        "    cudaEventDestroy(stop);\n",
        "\n",
        "    return 0;\n",
        "}\n"
      ],
      "metadata": {
        "colab": {
          "base_uri": "https://localhost:8080/"
        },
        "id": "Eh8jsdyeQiDA",
        "outputId": "fe84ebe7-a430-4db7-8823-0c02d06bae74"
      },
      "execution_count": 18,
      "outputs": [
        {
          "output_type": "stream",
          "name": "stdout",
          "text": [
            "Overwriting aumento_medio.cu\n"
          ]
        }
      ]
    },
    {
      "cell_type": "code",
      "source": [
        "!nvcc -arch=sm_70 -std=c++14 aumento_medio.cu -o aumento_medio"
      ],
      "metadata": {
        "id": "ZFSsL4GiRV9F"
      },
      "execution_count": 19,
      "outputs": []
    },
    {
      "cell_type": "code",
      "source": [
        "!./aumento_medio"
      ],
      "metadata": {
        "colab": {
          "base_uri": "https://localhost:8080/"
        },
        "id": "X-uh8JT1RV_X",
        "outputId": "1d5e18e1-b0ce-4839-cf35-06f371374ba8"
      },
      "execution_count": 20,
      "outputs": [
        {
          "output_type": "stream",
          "name": "stdout",
          "text": [
            "=====================\n",
            "Tempo para carregar preços de ações: 0.00136044 segundos\n",
            "=====================\n",
            "Tempo para calcular diferenças diárias: 0.028576 ms\n",
            "=====================\n",
            "Tempo para contar dias com aumento no preço: 0.137664 ms\n",
            "=====================\n",
            "Tempo para substituir valores negativos: 0.049184 ms\n",
            "=====================\n",
            "Tempo para calcular soma dos aumentos: 0.085696 ms\n",
            "=====================\n",
            "Número de dias com aumento no preço das ações: 3056\n",
            "Soma dos aumentos: 9634.08\n",
            "Média dos aumentos: 3.15251\n",
            "=====================\n"
          ]
        }
      ]
    },
    {
      "cell_type": "markdown",
      "source": [
        "# Discussão de Resultados\n",
        "\n",
        "* O uso da GPU e das bibliotecas Thrust permitiu que todas essas operações fossem realizadas com tempos de execução extremamente baixos. Cada uma das operações críticas levou apenas frações de milissegundo, demonstrando a eficácia da paralelização para grandes volumes de dados financeiros.\n",
        "\n",
        "* Esse tipo de análise pode ser muito útil em cenários em que há grandes quantidades de dados a serem processados, como no mercado financeiro, onde o uso da GPU pode acelerar significativamente o processamento e a análise de dados históricos."
      ],
      "metadata": {
        "id": "VwV-vo3RTChQ"
      }
    },
    {
      "cell_type": "markdown",
      "source": [
        "Eu fiz duas versões da parte final da aula, uma usando o  `thrust::constant_iterator`e outra sem. Ele de fato diminui o tempo que demora para rodar aquela parte do codigo, mas como não temos dados muito grande ou mais importante, uma conta complexa, não da para perceber muita diferença. Mas em tese era para ela permitir o acesso a dados sob demanda, sem gastar memória para armazenar grandes vetores repetitivos, tornando o código mais leve e eficiente.\n",
        "\n",
        "Outra coisa sobre a função de transformação, ela ajuda a paralelizar o processo, assim podendo tirar o máximo da memória da GPU (só ganhos, hehehe).\n",
        "\n",
        "Em suma, essas duas técnicas resultam em tempos de execução baixissimos com o menor consumo de memória possível, logo se tornam cruciais para o trabalho com grandes volumes de dados."
      ],
      "metadata": {
        "id": "WW9CoC29UvMV"
      }
    },
    {
      "cell_type": "code",
      "source": [],
      "metadata": {
        "id": "fJ9nYt37W_cq"
      },
      "execution_count": null,
      "outputs": []
    }
  ]
}