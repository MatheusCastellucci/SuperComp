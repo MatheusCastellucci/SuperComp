{
 "cells": [
  {
   "cell_type": "markdown",
   "metadata": {},
   "source": [
    "# Relatório do projeto de Super Computação (Análise de Redes Socias)\n",
    "\n",
    "Aluno: Matheus Raffaelle Nery Castellucci"
   ]
  },
  {
   "cell_type": "markdown",
   "metadata": {},
   "source": [
    "## O que é Clique Máximo?\n",
    "\n",
    "O clique máximo de um grafo é um subconjunto de vértices tal que:\n",
    "\n",
    "1. **É um clique**: Todos os vértices do subconjunto estão diretamente conectados uns aos outros por arestas, ou seja, formam um grafo completo dentro do grafo maior.\n",
    "2. **É máximo**: Nenhum outro clique do grafo possui mais vértices do que ele. Em outras palavras, é o maior conjunto de vértices que cumpre a condição de ser um clique.\n",
    "\n",
    "## Algoritmo e Supercomputação\n",
    "\n",
    "Encontrar o clique máximo é um problema difícil do ponto de vista computacional, classificado como NP-completo, pois exige a verificação de muitas combinações de vértices. Em supercomputação, podemos otimizar essa busca, distribuindo o cálculo e buscando formas eficientes de explorar o grafo"
   ]
  },
  {
   "cell_type": "markdown",
   "metadata": {},
   "source": []
  }
 ],
 "metadata": {
  "language_info": {
   "name": "python"
  }
 },
 "nbformat": 4,
 "nbformat_minor": 2
}
