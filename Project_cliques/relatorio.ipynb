{
 "cells": [
  {
   "cell_type": "markdown",
   "metadata": {},
   "source": [
    "# Relatório do Projeto de Supercomputação: Clique Máximo em Grafos\n",
    "\n",
    "Aluno: Matheus Raffaelle Nery Castellucci\n",
    "\n",
    "## Introdução\n",
    "\n",
    "Este relatório apresenta a implementação e análise de diferentes abordagens para encontrar o clique máximo em grafos utilizando técnicas de supercomputação. O clique máximo de um grafo é definido como o maior subconjunto de vértices onde todos os vértices estão conectados entre si. Este problema, conhecido por sua complexidade NP-completa, foi abordado de forma exaustiva e paralela para explorar as vantagens do processamento distribuído."
   ]
  },
  {
   "cell_type": "markdown",
   "metadata": {},
   "source": [
    "## Objetivo\n",
    "\n",
    "O objetivo deste projeto é implementar e comparar diferentes abordagens para encontrar o clique máximo em grafos, analisando o desempenho e a escalabilidade de cada método."
   ]
  },
  {
   "cell_type": "markdown",
   "metadata": {},
   "source": [
    "## Metodologia\n",
    "\n",
    "As seguintes abordagens foram implementadas:\n",
    "\n",
    "1. **Abordagem Exaustiva 1:** Busca todas as combinações possíveis de vértices para encontrar o maior clique.\n",
    "2. **Abordagem Exaustiva 2}:** Adota uma heurística que prioriza vértices com maior grau de adjacência, reduzindo o espaço de busca.\n",
    "3. **OpenMP:** Paraleliza a busca para aproveitar múltiplos núcleos de processamento.\n",
    "4. **OpenMP + MPI:** Combina paralelismo local com distribuição de tarefas em um cluster de nós."
   ]
  },
  {
   "cell_type": "markdown",
   "metadata": {},
   "source": [
    "## Resultados: (10 vértices, 50% de probabilidade)\n",
    "\n",
    "* Abordagem Exaustiva 1: Clique máxima encontrada: 1 2 5 8, tamanho: 4, tempo: 0 ms\n",
    "* Abordagem Exaustiva 2: Clique máxima encontrada: 5 8 1 2, tamanho: 4, tempo: 0 ms\n",
    "* OpenMP: Clique máxima encontrada: 1 2 5 8, tamanho: 4, tempo: 1.49738e-05 s\n",
    "* OpenMP + MPI: Clique máxima encontrada: 2 4 5, tamanho: 3, tempo: 5.7847e-05 s"
   ]
  },
  {
   "cell_type": "markdown",
   "metadata": {},
   "source": [
    "## Resultados: (20 vértices, 50% de probabilidade)\n",
    "\n",
    "* Abordagem Exaustiva 1: Clique máxima encontrada: 1 2 4 5 8, tamanho: 5, tempo: 346 ms\n",
    "* Abordagem Exaustiva 2: Clique máxima encontrada: 7 11 3 17 14, tamanho: 5, tempo: 362 ms\n",
    "* OpenMP: Clique máxima encontrada: 1 2 4 5 8, tamanho: 5, tempo: 2.21692e-05 s\n",
    "* OpenMP + MPI: Clique máxima encontrada: 7 9 10 5 8, tamanho: 5, tempo: 5.3109e-05 s"
   ]
  },
  {
   "cell_type": "markdown",
   "metadata": {},
   "source": [
    "## Resultados: (30 vértices, 50% de probabilidade)\n",
    "\n",
    "* Abordagem Exaustiva 1: Clique máxima encontrada: 9 10 12 14 18 26 29, tamanho: 7, tempo: 523265 ms\n",
    "* Abordagem Exaustiva 2: Clique máxima encontrada: 9 14 21 19 29 28 12, tamanho: 7, tempo: 564631 ms\n",
    "* OpenMP: Clique máxima encontrada: 7 8 11 15 16 18 21 23 26, tamanho: 13, tempo: 0.000195234 s\n",
    "* OpenMP + MPI: Clique máxima encontrada: 7 8 11 15 16 18 21 24 41, tamanho: 10, tempo: 0.000109294 s"
   ]
  },
  {
   "cell_type": "markdown",
   "metadata": {},
   "source": [
    "## Resultado: (40 vértices, 50% de probabilidade)\n",
    "\n",
    "* Abordagem Exaustiva 1: Não suportou o processamento\n",
    "* Abordagem Exaustiva 2: Não suportou o processamento\n",
    "* OpenMP: Clique máxima encontrada: 1 2 5 10 14 39, tamanho: 6, tempo: 4.91235e-05 s\n",
    "* OpenMP + MPI: Clique máxima encontrada: 15 16 17 20 14, tamanho: 5, tempo: 6.0141e-05 s"
   ]
  },
  {
   "cell_type": "markdown",
   "metadata": {},
   "source": [
    "## Discussão\n",
    "\n",
    "Os resultados mostram que as abordagens paralelas (OpenMP e MPI) são significativamente mais rápidas do que as abordagens exaustivas, especialmente para grafos maiores. No entanto, a eficiência das abordagens paralelas depende da granularidade do paralelismo e da distribuição efetiva das tarefas. Apesar dos testes indicarem que a abordagem com OpenMP isolado apresenta tempos de execução menores em relação à combinação OpenMP + MPI, isso se deve ao tamanho dos grafos utilizados nos experimentos. A comunicação entre diferentes máquinas no modelo MPI adiciona uma sobrecarga, que pode ser perceptível em grafos menores ou moderados. Porém, para grafos muito maiores e mais complexos, essa abordagem combinada pode se tornar mais vantajosa, pois permite lidar melhor com a distribuição de dados e o uso de recursos de múltiplos nós do cluster.\n",
    "\n",
    "Enquanto escrevia diferentes códigos para a abordagem exaustiva, percebi algumas limitações. Ao garantir que o código fizesse a busca de todos os cliques possíveis, tivemos um aumento exponencial da complexidade do algoritmo, isso acabou por limitar bastante a capacidade de processamento do código, oque fez com que o código não conseguisse processar grafos com mais de 30 vértices em tempo hábil. (Um ponto engraçado é que eu passei algumas semanas com uma primeiro código super rápido, até mesmo para grafos enormes, mas depois de uma revisão do código, percebi que ele não estava fazendo a busca corretamente, e por isso, tive que refazer o código, e acabei por perder a eficiência que tinha antes).\n",
    "\n",
    "Outra coisa que percebi, só que dessa vez implementando a heurística, foi que ela também poderia aumentar a complexidade do algoritmo, mas ao mesmo tempo, ela deveria abaixar o tempo de processamento, Isso não aconteceu, acredito que a heurística que implementei não foi a melhor escolha para o problema, e isso acabou por aumentar o tempo de processamento do código. Mas como não era algo obrigatório, decidi deixar o código com a heurística implementada, porque achei bem interessante a ideia de ao tentar melhorar o código, acabar piorando ele.\n"
   ]
  },
  {
   "cell_type": "markdown",
   "metadata": {},
   "source": []
  }
 ],
 "metadata": {
  "language_info": {
   "name": "python"
  }
 },
 "nbformat": 4,
 "nbformat_minor": 2
}
