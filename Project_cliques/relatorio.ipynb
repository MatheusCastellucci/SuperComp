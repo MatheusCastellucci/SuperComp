{
 "cells": [
  {
   "cell_type": "markdown",
   "metadata": {},
   "source": [
    "# Relatório do projeto de Super Computação (Análise de Redes Socias)\n",
    "\n",
    "Aluno: Matheus Raffaelle Nery Castellucci"
   ]
  },
  {
   "cell_type": "markdown",
   "metadata": {},
   "source": [
    "## O que é Clique Máximo?\n",
    "\n",
    "O clique máximo de um grafo é um subconjunto de vértices tal que:\n",
    "\n",
    "1. **É um clique**: Todos os vértices do subconjunto estão diretamente conectados uns aos outros por arestas, ou seja, formam um grafo completo dentro do grafo maior.\n",
    "2. **É máximo**: Nenhum outro clique do grafo possui mais vértices do que ele. Em outras palavras, é o maior conjunto de vértices que cumpre a condição de ser um clique.\n",
    "\n",
    "## Algoritmo e Supercomputação\n",
    "\n",
    "Encontrar o clique máximo é um problema difícil do ponto de vista computacional, classificado como NP-completo, pois exige a verificação de muitas combinações de vértices. Em supercomputação, podemos otimizar essa busca, distribuindo o cálculo e buscando formas eficientes de explorar o grafo"
   ]
  },
  {
   "cell_type": "markdown",
   "metadata": {},
   "source": [
    "# Abordagens tomadas no projeto\n",
    "\n",
    "1. **Abordagem Exaustiva 1**: Busca exaustiva de cliques, verificando todas as combinações possíveis de vértices\n",
    "2. **Abordagem Exaustiva 2**: Busca exaustiva de cliques, utilizando uma heuristica para reduzir o número de combinações a serem verificadas\n",
    "3. **OpenMP**: Paralelização da busca exaustiva de cliques, utilizando OpenMP para distribuir o cálculo entre os núcleos do processador\n",
    "4. **OpenMP + MPI**: Paralelização da busca exaustiva de cliques, utilizando OpenMP para distribuir o cálculo entre os núcleos do processador e MPI para distribuir o cálculo entre os nós do cluster"
   ]
  },
  {
   "cell_type": "markdown",
   "metadata": {},
   "source": []
  },
  {
   "cell_type": "markdown",
   "metadata": {},
   "source": [
    "## 1. Abordagem Exaustiva\n",
    "\n",
    "A abordagem exaustiva consiste em formar um clique iterativamente, testando cada vértice e verificando se ele pode ser adicionado ao conjunto já formado. Iniciamos com todos os vértices como candidatos e, a cada iteração, selecionamos um vértice candidato e verificamos se ele é adjacente a todos os vértices já no clique. Se for, ele é adicionado ao conjunto, e os candidatos são filtrados para manter apenas aqueles que também estão conectados a todos no clique.\n",
    "\n",
    "Essa abordagem é simples e garante a formação de um clique, mas o processo de verificação de conexões para cada vértice candidato exige operações repetidas de checagem de adjacência. Em grafos grandes, essa abordagem pode se tornar ineficiente devido à quantidade de combinações de vértices a serem verificadas."
   ]
  },
  {
   "cell_type": "markdown",
   "metadata": {},
   "source": [
    "## 2. Abordagem com Heurística de Ordenação por Grau de Adjacência\n",
    "Para melhorar a eficiência, introduzi uma heurística que ordena os vértices antes do processo de busca pelo clique máximo. A heurística consiste em:\n",
    "\n",
    "* Ordenar os vértices por grau de adjacência em ordem decrescente: Vértices com maior grau (ou seja, aqueles com mais conexões) são priorizados. A ideia é que esses vértices, por estarem conectados a muitos outros, têm maior probabilidade de formar parte de um clique grande.\n",
    "\n",
    "Essa ordenação reduz o espaço de busca ao concentrar-se primeiramente nos vértices com maior potencial de conectividade. Isso permite encontrar cliques grandes de forma mais rápida, já que iniciamos com vértices altamente conectados e, portanto, com maior probabilidade de formar cliques maiores com menos operações de verificação."
   ]
  },
  {
   "cell_type": "markdown",
   "metadata": {},
   "source": []
  }
 ],
 "metadata": {
  "language_info": {
   "name": "python"
  }
 },
 "nbformat": 4,
 "nbformat_minor": 2
}
