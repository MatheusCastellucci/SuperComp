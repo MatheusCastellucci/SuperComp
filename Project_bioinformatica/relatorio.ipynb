{
 "cells": [
  {
   "cell_type": "markdown",
   "metadata": {},
   "source": [
    "# Exercicio 1\n",
    "\n",
    "### **Resumo da Paralelização**\n",
    "1. Divisão de Arquivos com MPI: Cada processo recebe uma lista de arquivos para processar, dividindo o trabalho entre processos MPI.\n",
    "2. Paralelização Interna com OpenMP: Cada processo usa OpenMP para distribuir o processamento dos arquivos entre threads, fazendo a contagem de bases para cada arquivo em paralelo.\n",
    "3. Coleta e Exibição dos Resultados: Os resultados de cada arquivo são enviados para o processo mestre, que exibe as contagens de bases de cada arquivo individualmente.\n",
    "\n",
    "Esse design de \"paralelismo híbrido\" combina MPI (para paralelismo entre processos) com OpenMP (para paralelismo entre threads dentro de cada processo), maximizando o uso dos recursos de hardware disponíveis e facilitando o processamento de grandes volumes de dados genômicos de forma eficiente."
   ]
  },
  {
   "cell_type": "markdown",
   "metadata": {},
   "source": [
    "# Exercicio 2\n",
    "\n",
    "### **Resumo da Paralelização**\n",
    "1. MPI: Divide a carga de arquivos entre processos MPI. Cada processo processa uma parte dos arquivos.\n",
    "2. OpenMP: Dentro de cada processo, usa threads para transcrever as sequências de DNA para RNA em paralelo.\n",
    "3. Coleta de Resultados: O processo mestre coleta os resultados dos processos MPI e salva cada sequência de RNA em arquivos individuais.\n",
    "\n",
    "Essa abordagem permite transcrever grandes conjuntos de dados de DNA para RNA de maneira eficiente, utilizando o paralelismo tanto entre processos quanto entre threads."
   ]
  },
  {
   "cell_type": "markdown",
   "metadata": {},
   "source": [
    "# Exercicio 3\n",
    "\n",
    "### **Resumo da Paralelização**\n",
    "1. Divisão de Arquivos com MPI: Cada processo MPI recebe uma parte dos arquivos de RNA para processar.\n",
    "2. Contagem de Códons com OpenMP: Cada processo conta o códon \"AUG\" em cada arquivo de forma paralela, acelerando a busca.\n",
    "3. Envio dos Resultados: Cada processo envia ao mestre o nome do arquivo e a contagem de proteínas inicializadas.\n",
    "4. Exibição dos Resultados no Mestre: O processo mestre exibe a contagem de proteínas inicializadas para cada arquivo individual.\n",
    "\n",
    "Esse código permite a contagem eficiente de proteínas inicializadas usando paralelização híbrida com MPI e OpenMP, garantindo um bom desempenho mesmo para grandes volumes de dados de RNA."
   ]
  },
  {
   "cell_type": "markdown",
   "metadata": {},
   "source": [
    "# Exercicio 4\n",
    "\n",
    "### **Resumo da Paralelização**\n",
    "1. Divisão de Arquivos com MPI: Os arquivos são distribuídos entre processos MPI, e cada processo recebe uma lista de arquivos para processar.\n",
    "2. Paralelização Interna com OpenMP: Dentro de cada processo MPI, os códons são processados em paralelo por diferentes threads usando OpenMP, convertendo-os para aminoácidos.\n",
    "3. Agregação dos Resultados com MPI: Cada processo MPI envia suas traduções de aminoácidos para o processo mestre, que exibe a sequência de aminoácidos para cada arquivo.\n",
    "\n",
    "Essa estrutura de paralelização híbrida combina as vantagens de MPI e OpenMP, garantindo que o programa seja eficiente e possa lidar com grandes volumes de dados de RNA."
   ]
  }
 ],
 "metadata": {
  "language_info": {
   "name": "python"
  }
 },
 "nbformat": 4,
 "nbformat_minor": 2
}
