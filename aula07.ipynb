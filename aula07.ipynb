{
 "cells": [
  {
   "cell_type": "markdown",
   "metadata": {},
   "source": [
    "# Entrega - Aula 7"
   ]
  },
  {
   "cell_type": "markdown",
   "metadata": {},
   "source": [
    "Aluno: Matheus Raffaelle Nery Castellucci"
   ]
  },
  {
   "cell_type": "markdown",
   "metadata": {},
   "source": [
    "## 1. Registre o tempo necessário para o algoritmo de busca exaustiva resolver cada Entrada."
   ]
  },
  {
   "cell_type": "code",
   "execution_count": null,
   "metadata": {},
   "outputs": [],
   "source": [
    "ent1_busca = [44]\n",
    "ent2_busca = [3300]  # esse resultado é o mais estranho aqui da busca exaustiva, é quase o dobro do esperado.\n",
    "ent3_busca = [\"Resultado não encontrado\"]\n",
    "ent4_busca = [674]"
   ]
  },
  {
   "cell_type": "markdown",
   "metadata": {},
   "source": [
    "#### Todos os tempos encontrados me parecem MUITO altos. Para comprovar isso até fui falar com alguns colegas e de fato o meu era o que estava mais alto. Acredito que isso se deva a dois fatores:\n",
    "\n",
    "1. O algoritmo que eu implementei não é o mais eficiente possível, teria que ir atrás de fazer alguma modificação para melhorar sua perfomance.\n",
    "\n",
    "2. Eu rodei esses códigos em um momento em que o cluster estava muito sobrecarregado, o que pode ter influenciado no tempo de execução. Para piorar ainda mais, eu fiz com que o código tivesse alguns prints para que eu pudesse acompanhar o andamento do código, o que com certeza influênciou no tempo de execução."
   ]
  },
  {
   "cell_type": "markdown",
   "metadata": {},
   "source": [
    "## 2. Execute o algorítimo embaralhado da Tarefa 1 (Embaralhar e Preencher) pelo menos 5 vezes para cada entrada."
   ]
  },
  {
   "cell_type": "code",
   "execution_count": null,
   "metadata": {},
   "outputs": [],
   "source": [
    "# Como esperado, como esse código não se importa em buscar uma melhor resposta para o problema, o esultado não era certo para o gabarito.\n",
    "ent1_emb_pren = [1.09e-05]\n",
    "ent2_emb_pren = [1.22e-05]\n",
    "ent3_emb_pren = [1.12e-05]\n",
    "ent4_emb_pren = [1.29e-05]"
   ]
  },
  {
   "cell_type": "markdown",
   "metadata": {},
   "source": [
    "## 3. Execute o algorítimo probabilístico da Tarefa 2 pelo menos 5 vezes para cada entrada."
   ]
  },
  {
   "cell_type": "code",
   "execution_count": null,
   "metadata": {},
   "outputs": [],
   "source": [
    "ent1_prob = [1.37e-05]\n",
    "ent2_prob = [1.59e-05]\n",
    "ent3_prob = [1.61e-05]\n",
    "ent4_prob = [1.57e-05]"
   ]
  },
  {
   "cell_type": "markdown",
   "metadata": {},
   "source": [
    "## 4. Analise as diferenças nos tempos de execução e na qualidade das soluções encontradas (valores obtidos e pesos das mochilas) das heurísticas aleatórias e da busca exaustiva."
   ]
  },
  {
   "cell_type": "markdown",
   "metadata": {},
   "source": [
    "1. Tempo de execução:\n",
    "\n",
    "    * As heurísticas aleatórias (Tarefa 1 e Tarefa 2) são extremamente rápidas, executando-se em microssegundos, enquanto a busca exaustiva, especialmente para entradas maiores como Entrada 2 e Entrada 3, é significativamente mais demorada, evidenciando sua impraticabilidade em problemas maiores, onde as heurísticas oferecem soluções rápidas e eficientes. A diferença chega até ser engraçada ao comparar com   Entrada3, a busca exaustiva nem conseguiu rodar dentro do tempo limite que temos para um job dentro do cluster, tanto que eu não consegui a informação.\n",
    "\n",
    "2. Qualidade das soluções:\n",
    "\n",
    "    * A busca exaustiva, por ser um algoritmo exato, sempre grantirá a melhor solução para o problema, enquanto as heurísticas aleatórias, por serem algoritmos aproximados, não garantem a solução ótima, mas oferecem soluções próximas a ela (de vez qm quando). O critério que as diferencia é o tempo de execução, onde a busca exaustiva é extremamente lenta, enquanto as heurísticas são extremamente rápidas, tornando-se uma opção mais viável para problemas maiores.\n",
    "\n",
    "Pode-se tirar disso que a busca exaustiva é a melhor opção quando temos um problema que queremos a melhor opção possível e o tempo de execução não é um gargalo. Já uma solução utilizando das heuristicas aleatórias é mais viável quando o tempo de execução é um fator crítico e a solução ótima não é necessária. "
   ]
  },
  {
   "cell_type": "markdown",
   "metadata": {},
   "source": []
  }
 ],
 "metadata": {
  "kernelspec": {
   "display_name": "Python 3",
   "language": "python",
   "name": "python3"
  },
  "language_info": {
   "codemirror_mode": {
    "name": "ipython",
    "version": 3
   },
   "file_extension": ".py",
   "mimetype": "text/x-python",
   "name": "python",
   "nbconvert_exporter": "python",
   "pygments_lexer": "ipython3",
   "version": "3.12.5"
  }
 },
 "nbformat": 4,
 "nbformat_minor": 2
}
